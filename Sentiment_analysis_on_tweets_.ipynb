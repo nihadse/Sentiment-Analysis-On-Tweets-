{
  "nbformat": 4,
  "nbformat_minor": 0,
  "metadata": {
    "colab": {
      "provenance": []
    },
    "kernelspec": {
      "name": "python3",
      "display_name": "Python 3"
    },
    "language_info": {
      "name": "python"
    }
  },
  "cells": [
    {
      "cell_type": "markdown",
      "source": [
        "# **Sentiment analysis on tweets**"
      ],
      "metadata": {
        "id": "6RWawfgq3Dz5"
      }
    },
    {
      "cell_type": "markdown",
      "source": [
        "## **OBJECTIVE**\n",
        "\n",
        "\n",
        "Sentiment analysis on tweets involves determining the sentiment expressed in a given tweet, i.e., whether the tweet conveys a positive, negative, sentiment.\n",
        "\n",
        "You will be doing sentiment analysis on tweets into positive and negative tweets .we will be using the [Natural Language Toolkit (NLTK)](http://www.nltk.org/howto/twitter.html) package, an open-source Python library for natural language processing. It has modules for collecting, handling, and processing Twitter data, and you will be acquainted with them as we move along the course.\n",
        "\n",
        "Let us import them now as well as a few other libraries we will be using."
      ],
      "metadata": {
        "id": "EG4KCscq_8Cw"
      }
    },
    {
      "cell_type": "code",
      "execution_count": 1,
      "metadata": {
        "id": "oq2o1GHEsrbV"
      },
      "outputs": [],
      "source": [
        "import nltk                                # Python library for NLP\n",
        "from nltk.corpus import twitter_samples    # sample Twitter dataset from NLTK\n",
        "import matplotlib.pyplot as plt            # library for visualization\n",
        "import random\n",
        "import re                                  # library for regular expression operations\n",
        "import string                              # for string operations\n",
        "from nltk.corpus import stopwords          # module for stop words that come with NLTK\n",
        "from nltk.stem import PorterStemmer        # module for stemming\n",
        "from nltk.tokenize import TweetTokenizer   # module for tokenizing strings\n",
        "import numpy as np"
      ]
    },
    {
      "cell_type": "markdown",
      "source": [
        "## About the Twitter dataset\n",
        "\n",
        "The sample dataset from NLTK is separated into positive and negative tweets. It contains 5000 positive tweets and 5000 negative tweets exactly. The exact match between these classes is not a coincidence. The intention is to have a balanced dataset. That does not reflect the real distributions of positive and negative classes in live Twitter streams. It is just because balanced datasets simplify the design of most computational methods that are required for sentiment analysis. However, it is better to be aware that this balance of classes is artificial.\n",
        "\n"
      ],
      "metadata": {
        "id": "Fk3U6MxLAQW_"
      }
    },
    {
      "cell_type": "code",
      "source": [
        "# downloads sample twitter dataset.\n",
        "nltk.download('twitter_samples')"
      ],
      "metadata": {
        "colab": {
          "base_uri": "https://localhost:8080/"
        },
        "id": "r8Mpn8uSAOaA",
        "outputId": "377112a3-4c78-4ab3-fc94-45a728e0b1a0"
      },
      "execution_count": 2,
      "outputs": [
        {
          "output_type": "stream",
          "name": "stderr",
          "text": [
            "[nltk_data] Downloading package twitter_samples to /root/nltk_data...\n",
            "[nltk_data]   Unzipping corpora/twitter_samples.zip.\n"
          ]
        },
        {
          "output_type": "execute_result",
          "data": {
            "text/plain": [
              "True"
            ]
          },
          "metadata": {},
          "execution_count": 2
        }
      ]
    },
    {
      "cell_type": "markdown",
      "source": [
        "We load the text fields of the positive and negative tweets by using the module's strings() method like this:"
      ],
      "metadata": {
        "id": "dunRtHhfAYdA"
      }
    },
    {
      "cell_type": "code",
      "source": [
        "# select the set of positive and negative tweets\n",
        "all_positive_tweets = twitter_samples.strings('positive_tweets.json')\n",
        "all_negative_tweets = twitter_samples.strings('negative_tweets.json')"
      ],
      "metadata": {
        "id": "SAs7SRW7AOdH"
      },
      "execution_count": 3,
      "outputs": []
    },
    {
      "cell_type": "code",
      "source": [
        "import pandas as pd\n",
        "all_positive_tweets = pd.DataFrame(data = all_positive_tweets)\n",
        "all_positive_tweets.head(50)"
      ],
      "metadata": {
        "colab": {
          "base_uri": "https://localhost:8080/",
          "height": 1000
        },
        "id": "grJnvwcWAOjH",
        "outputId": "fb53b705-a4d8-4577-ef83-485f2d721083"
      },
      "execution_count": 4,
      "outputs": [
        {
          "output_type": "execute_result",
          "data": {
            "text/plain": [
              "                                                    0\n",
              "0   #FollowFriday @France_Inte @PKuchly57 @Milipol...\n",
              "1   @Lamb2ja Hey James! How odd :/ Please call our...\n",
              "2   @DespiteOfficial we had a listen last night :)...\n",
              "3                                @97sides CONGRATS :)\n",
              "4   yeaaaah yippppy!!!  my accnt verified rqst has...\n",
              "5   @BhaktisBanter @PallaviRuhail This one is irre...\n",
              "6   We don't like to keep our lovely customers wai...\n",
              "7   @Impatientraider On second thought, there’s ju...\n",
              "8             Jgh , but we have to go to Bayan :D bye\n",
              "9   As an act of mischievousness, am calling the E...\n",
              "10  #FollowFriday @wncer1 @Defense_gouv for being ...\n",
              "11  Who Wouldn't Love These Big....Juicy....Selfie...\n",
              "12  @Mish23615351  follow @jnlazts &amp; http://t....\n",
              "13  @jjulieredburn Perfect, so you already know wh...\n",
              "14  Great new opportunity for junior triathletes a...\n",
              "15  Laying out a greetings card range for print to...\n",
              "16  Friend's lunch... yummmm :)\\n#Nostalgia #TBS #KU.\n",
              "17  @RookieSenpai @arcadester it is the id conflic...\n",
              "18                               @oohdawg_ Hi liv :))\n",
              "19  Hello I need to know something can u fm me on ...\n",
              "20  #FollowFriday @MBandScott_ @Eric_FLE @pointsol...\n",
              "21  @rossbreadmore I've heard the Four Seasons is ...\n",
              "22  @gculloty87 Yeah I suppose she was lol! Chat i...\n",
              "23  Hello :) Get Youth Job Opportunities follow &g...\n",
              "24              💅🏽💋 - :)))) haven't seen you in years\n",
              "25  @Bosslogic @amellywood @CW_Arrow @ARROWwriters...\n",
              "26  @johngutierrez1 hope the rest of your night go...\n",
              "27  Spiritual Ritual Festival (Népal)\\nBeginning o...\n",
              "28  @ke7zum Hey Sarah! Send us an email at bitsy@b...\n",
              "29                            @izzkamilhalda lols. :D\n",
              "30  MY kik - hatessuce32429 #kik #kikme #lgbt #tin...\n",
              "31                @KalinWhite come to my house :)))))\n",
              "32  #nsn_supplements, Effective press release dist...\n",
              "33  Hi BAM ! @BarsAndMelody \\nCan you follow my be...\n",
              "34  everyone watch the documentary Earthlings on Y...\n",
              "35  @jamiefigsxx  follow @jnlazts &amp; http://t.c...\n",
              "36  #FollowFriday @MichelBauza @InvataOnline for b...\n",
              "37                             buuuuuuuut oh well :-)\n",
              "38  @leisuremarkltd @NoshandQuaff @aktarislam @kea...\n",
              "39  @sehunshinedaily if it makes u feel better i n...\n",
              "40  @Joyster2012 @CathStaincliffe Good for you, gi...\n",
              "41  @_Kimimi A great enough reason to listen to on...\n",
              "42  @AquaDesignGroup Thank you for the shout out. ...\n",
              "43  I added a video to a @YouTube playlist http://...\n",
              "44  Would love to see you dear in #Jordan :) waiti...\n",
              "45                @ABNORMAL_ANA92 oh, okay :D thanks!\n",
              "46  @sssniperwolf like how to fake gameplays ;) ha...\n",
              "47          @dennislami @Dicle_Aygur, yeah exactly :)\n",
              "48  Our new product line is in our #etsy shop now!...\n",
              "49  @PeakYourMind I hope your vacation is going gr..."
            ],
            "text/html": [
              "\n",
              "  <div id=\"df-af88ad9d-70e4-4172-b57b-bee478ee05e6\" class=\"colab-df-container\">\n",
              "    <div>\n",
              "<style scoped>\n",
              "    .dataframe tbody tr th:only-of-type {\n",
              "        vertical-align: middle;\n",
              "    }\n",
              "\n",
              "    .dataframe tbody tr th {\n",
              "        vertical-align: top;\n",
              "    }\n",
              "\n",
              "    .dataframe thead th {\n",
              "        text-align: right;\n",
              "    }\n",
              "</style>\n",
              "<table border=\"1\" class=\"dataframe\">\n",
              "  <thead>\n",
              "    <tr style=\"text-align: right;\">\n",
              "      <th></th>\n",
              "      <th>0</th>\n",
              "    </tr>\n",
              "  </thead>\n",
              "  <tbody>\n",
              "    <tr>\n",
              "      <th>0</th>\n",
              "      <td>#FollowFriday @France_Inte @PKuchly57 @Milipol...</td>\n",
              "    </tr>\n",
              "    <tr>\n",
              "      <th>1</th>\n",
              "      <td>@Lamb2ja Hey James! How odd :/ Please call our...</td>\n",
              "    </tr>\n",
              "    <tr>\n",
              "      <th>2</th>\n",
              "      <td>@DespiteOfficial we had a listen last night :)...</td>\n",
              "    </tr>\n",
              "    <tr>\n",
              "      <th>3</th>\n",
              "      <td>@97sides CONGRATS :)</td>\n",
              "    </tr>\n",
              "    <tr>\n",
              "      <th>4</th>\n",
              "      <td>yeaaaah yippppy!!!  my accnt verified rqst has...</td>\n",
              "    </tr>\n",
              "    <tr>\n",
              "      <th>5</th>\n",
              "      <td>@BhaktisBanter @PallaviRuhail This one is irre...</td>\n",
              "    </tr>\n",
              "    <tr>\n",
              "      <th>6</th>\n",
              "      <td>We don't like to keep our lovely customers wai...</td>\n",
              "    </tr>\n",
              "    <tr>\n",
              "      <th>7</th>\n",
              "      <td>@Impatientraider On second thought, there’s ju...</td>\n",
              "    </tr>\n",
              "    <tr>\n",
              "      <th>8</th>\n",
              "      <td>Jgh , but we have to go to Bayan :D bye</td>\n",
              "    </tr>\n",
              "    <tr>\n",
              "      <th>9</th>\n",
              "      <td>As an act of mischievousness, am calling the E...</td>\n",
              "    </tr>\n",
              "    <tr>\n",
              "      <th>10</th>\n",
              "      <td>#FollowFriday @wncer1 @Defense_gouv for being ...</td>\n",
              "    </tr>\n",
              "    <tr>\n",
              "      <th>11</th>\n",
              "      <td>Who Wouldn't Love These Big....Juicy....Selfie...</td>\n",
              "    </tr>\n",
              "    <tr>\n",
              "      <th>12</th>\n",
              "      <td>@Mish23615351  follow @jnlazts &amp;amp; http://t....</td>\n",
              "    </tr>\n",
              "    <tr>\n",
              "      <th>13</th>\n",
              "      <td>@jjulieredburn Perfect, so you already know wh...</td>\n",
              "    </tr>\n",
              "    <tr>\n",
              "      <th>14</th>\n",
              "      <td>Great new opportunity for junior triathletes a...</td>\n",
              "    </tr>\n",
              "    <tr>\n",
              "      <th>15</th>\n",
              "      <td>Laying out a greetings card range for print to...</td>\n",
              "    </tr>\n",
              "    <tr>\n",
              "      <th>16</th>\n",
              "      <td>Friend's lunch... yummmm :)\\n#Nostalgia #TBS #KU.</td>\n",
              "    </tr>\n",
              "    <tr>\n",
              "      <th>17</th>\n",
              "      <td>@RookieSenpai @arcadester it is the id conflic...</td>\n",
              "    </tr>\n",
              "    <tr>\n",
              "      <th>18</th>\n",
              "      <td>@oohdawg_ Hi liv :))</td>\n",
              "    </tr>\n",
              "    <tr>\n",
              "      <th>19</th>\n",
              "      <td>Hello I need to know something can u fm me on ...</td>\n",
              "    </tr>\n",
              "    <tr>\n",
              "      <th>20</th>\n",
              "      <td>#FollowFriday @MBandScott_ @Eric_FLE @pointsol...</td>\n",
              "    </tr>\n",
              "    <tr>\n",
              "      <th>21</th>\n",
              "      <td>@rossbreadmore I've heard the Four Seasons is ...</td>\n",
              "    </tr>\n",
              "    <tr>\n",
              "      <th>22</th>\n",
              "      <td>@gculloty87 Yeah I suppose she was lol! Chat i...</td>\n",
              "    </tr>\n",
              "    <tr>\n",
              "      <th>23</th>\n",
              "      <td>Hello :) Get Youth Job Opportunities follow &amp;g...</td>\n",
              "    </tr>\n",
              "    <tr>\n",
              "      <th>24</th>\n",
              "      <td>💅🏽💋 - :)))) haven't seen you in years</td>\n",
              "    </tr>\n",
              "    <tr>\n",
              "      <th>25</th>\n",
              "      <td>@Bosslogic @amellywood @CW_Arrow @ARROWwriters...</td>\n",
              "    </tr>\n",
              "    <tr>\n",
              "      <th>26</th>\n",
              "      <td>@johngutierrez1 hope the rest of your night go...</td>\n",
              "    </tr>\n",
              "    <tr>\n",
              "      <th>27</th>\n",
              "      <td>Spiritual Ritual Festival (Népal)\\nBeginning o...</td>\n",
              "    </tr>\n",
              "    <tr>\n",
              "      <th>28</th>\n",
              "      <td>@ke7zum Hey Sarah! Send us an email at bitsy@b...</td>\n",
              "    </tr>\n",
              "    <tr>\n",
              "      <th>29</th>\n",
              "      <td>@izzkamilhalda lols. :D</td>\n",
              "    </tr>\n",
              "    <tr>\n",
              "      <th>30</th>\n",
              "      <td>MY kik - hatessuce32429 #kik #kikme #lgbt #tin...</td>\n",
              "    </tr>\n",
              "    <tr>\n",
              "      <th>31</th>\n",
              "      <td>@KalinWhite come to my house :)))))</td>\n",
              "    </tr>\n",
              "    <tr>\n",
              "      <th>32</th>\n",
              "      <td>#nsn_supplements, Effective press release dist...</td>\n",
              "    </tr>\n",
              "    <tr>\n",
              "      <th>33</th>\n",
              "      <td>Hi BAM ! @BarsAndMelody \\nCan you follow my be...</td>\n",
              "    </tr>\n",
              "    <tr>\n",
              "      <th>34</th>\n",
              "      <td>everyone watch the documentary Earthlings on Y...</td>\n",
              "    </tr>\n",
              "    <tr>\n",
              "      <th>35</th>\n",
              "      <td>@jamiefigsxx  follow @jnlazts &amp;amp; http://t.c...</td>\n",
              "    </tr>\n",
              "    <tr>\n",
              "      <th>36</th>\n",
              "      <td>#FollowFriday @MichelBauza @InvataOnline for b...</td>\n",
              "    </tr>\n",
              "    <tr>\n",
              "      <th>37</th>\n",
              "      <td>buuuuuuuut oh well :-)</td>\n",
              "    </tr>\n",
              "    <tr>\n",
              "      <th>38</th>\n",
              "      <td>@leisuremarkltd @NoshandQuaff @aktarislam @kea...</td>\n",
              "    </tr>\n",
              "    <tr>\n",
              "      <th>39</th>\n",
              "      <td>@sehunshinedaily if it makes u feel better i n...</td>\n",
              "    </tr>\n",
              "    <tr>\n",
              "      <th>40</th>\n",
              "      <td>@Joyster2012 @CathStaincliffe Good for you, gi...</td>\n",
              "    </tr>\n",
              "    <tr>\n",
              "      <th>41</th>\n",
              "      <td>@_Kimimi A great enough reason to listen to on...</td>\n",
              "    </tr>\n",
              "    <tr>\n",
              "      <th>42</th>\n",
              "      <td>@AquaDesignGroup Thank you for the shout out. ...</td>\n",
              "    </tr>\n",
              "    <tr>\n",
              "      <th>43</th>\n",
              "      <td>I added a video to a @YouTube playlist http://...</td>\n",
              "    </tr>\n",
              "    <tr>\n",
              "      <th>44</th>\n",
              "      <td>Would love to see you dear in #Jordan :) waiti...</td>\n",
              "    </tr>\n",
              "    <tr>\n",
              "      <th>45</th>\n",
              "      <td>@ABNORMAL_ANA92 oh, okay :D thanks!</td>\n",
              "    </tr>\n",
              "    <tr>\n",
              "      <th>46</th>\n",
              "      <td>@sssniperwolf like how to fake gameplays ;) ha...</td>\n",
              "    </tr>\n",
              "    <tr>\n",
              "      <th>47</th>\n",
              "      <td>@dennislami @Dicle_Aygur, yeah exactly :)</td>\n",
              "    </tr>\n",
              "    <tr>\n",
              "      <th>48</th>\n",
              "      <td>Our new product line is in our #etsy shop now!...</td>\n",
              "    </tr>\n",
              "    <tr>\n",
              "      <th>49</th>\n",
              "      <td>@PeakYourMind I hope your vacation is going gr...</td>\n",
              "    </tr>\n",
              "  </tbody>\n",
              "</table>\n",
              "</div>\n",
              "    <div class=\"colab-df-buttons\">\n",
              "\n",
              "  <div class=\"colab-df-container\">\n",
              "    <button class=\"colab-df-convert\" onclick=\"convertToInteractive('df-af88ad9d-70e4-4172-b57b-bee478ee05e6')\"\n",
              "            title=\"Convert this dataframe to an interactive table.\"\n",
              "            style=\"display:none;\">\n",
              "\n",
              "  <svg xmlns=\"http://www.w3.org/2000/svg\" height=\"24px\" viewBox=\"0 -960 960 960\">\n",
              "    <path d=\"M120-120v-720h720v720H120Zm60-500h600v-160H180v160Zm220 220h160v-160H400v160Zm0 220h160v-160H400v160ZM180-400h160v-160H180v160Zm440 0h160v-160H620v160ZM180-180h160v-160H180v160Zm440 0h160v-160H620v160Z\"/>\n",
              "  </svg>\n",
              "    </button>\n",
              "\n",
              "  <style>\n",
              "    .colab-df-container {\n",
              "      display:flex;\n",
              "      gap: 12px;\n",
              "    }\n",
              "\n",
              "    .colab-df-convert {\n",
              "      background-color: #E8F0FE;\n",
              "      border: none;\n",
              "      border-radius: 50%;\n",
              "      cursor: pointer;\n",
              "      display: none;\n",
              "      fill: #1967D2;\n",
              "      height: 32px;\n",
              "      padding: 0 0 0 0;\n",
              "      width: 32px;\n",
              "    }\n",
              "\n",
              "    .colab-df-convert:hover {\n",
              "      background-color: #E2EBFA;\n",
              "      box-shadow: 0px 1px 2px rgba(60, 64, 67, 0.3), 0px 1px 3px 1px rgba(60, 64, 67, 0.15);\n",
              "      fill: #174EA6;\n",
              "    }\n",
              "\n",
              "    .colab-df-buttons div {\n",
              "      margin-bottom: 4px;\n",
              "    }\n",
              "\n",
              "    [theme=dark] .colab-df-convert {\n",
              "      background-color: #3B4455;\n",
              "      fill: #D2E3FC;\n",
              "    }\n",
              "\n",
              "    [theme=dark] .colab-df-convert:hover {\n",
              "      background-color: #434B5C;\n",
              "      box-shadow: 0px 1px 3px 1px rgba(0, 0, 0, 0.15);\n",
              "      filter: drop-shadow(0px 1px 2px rgba(0, 0, 0, 0.3));\n",
              "      fill: #FFFFFF;\n",
              "    }\n",
              "  </style>\n",
              "\n",
              "    <script>\n",
              "      const buttonEl =\n",
              "        document.querySelector('#df-af88ad9d-70e4-4172-b57b-bee478ee05e6 button.colab-df-convert');\n",
              "      buttonEl.style.display =\n",
              "        google.colab.kernel.accessAllowed ? 'block' : 'none';\n",
              "\n",
              "      async function convertToInteractive(key) {\n",
              "        const element = document.querySelector('#df-af88ad9d-70e4-4172-b57b-bee478ee05e6');\n",
              "        const dataTable =\n",
              "          await google.colab.kernel.invokeFunction('convertToInteractive',\n",
              "                                                    [key], {});\n",
              "        if (!dataTable) return;\n",
              "\n",
              "        const docLinkHtml = 'Like what you see? Visit the ' +\n",
              "          '<a target=\"_blank\" href=https://colab.research.google.com/notebooks/data_table.ipynb>data table notebook</a>'\n",
              "          + ' to learn more about interactive tables.';\n",
              "        element.innerHTML = '';\n",
              "        dataTable['output_type'] = 'display_data';\n",
              "        await google.colab.output.renderOutput(dataTable, element);\n",
              "        const docLink = document.createElement('div');\n",
              "        docLink.innerHTML = docLinkHtml;\n",
              "        element.appendChild(docLink);\n",
              "      }\n",
              "    </script>\n",
              "  </div>\n",
              "\n",
              "\n",
              "<div id=\"df-04cc3928-ce03-4390-a020-a3c348bce3e2\">\n",
              "  <button class=\"colab-df-quickchart\" onclick=\"quickchart('df-04cc3928-ce03-4390-a020-a3c348bce3e2')\"\n",
              "            title=\"Suggest charts\"\n",
              "            style=\"display:none;\">\n",
              "\n",
              "<svg xmlns=\"http://www.w3.org/2000/svg\" height=\"24px\"viewBox=\"0 0 24 24\"\n",
              "     width=\"24px\">\n",
              "    <g>\n",
              "        <path d=\"M19 3H5c-1.1 0-2 .9-2 2v14c0 1.1.9 2 2 2h14c1.1 0 2-.9 2-2V5c0-1.1-.9-2-2-2zM9 17H7v-7h2v7zm4 0h-2V7h2v10zm4 0h-2v-4h2v4z\"/>\n",
              "    </g>\n",
              "</svg>\n",
              "  </button>\n",
              "\n",
              "<style>\n",
              "  .colab-df-quickchart {\n",
              "      --bg-color: #E8F0FE;\n",
              "      --fill-color: #1967D2;\n",
              "      --hover-bg-color: #E2EBFA;\n",
              "      --hover-fill-color: #174EA6;\n",
              "      --disabled-fill-color: #AAA;\n",
              "      --disabled-bg-color: #DDD;\n",
              "  }\n",
              "\n",
              "  [theme=dark] .colab-df-quickchart {\n",
              "      --bg-color: #3B4455;\n",
              "      --fill-color: #D2E3FC;\n",
              "      --hover-bg-color: #434B5C;\n",
              "      --hover-fill-color: #FFFFFF;\n",
              "      --disabled-bg-color: #3B4455;\n",
              "      --disabled-fill-color: #666;\n",
              "  }\n",
              "\n",
              "  .colab-df-quickchart {\n",
              "    background-color: var(--bg-color);\n",
              "    border: none;\n",
              "    border-radius: 50%;\n",
              "    cursor: pointer;\n",
              "    display: none;\n",
              "    fill: var(--fill-color);\n",
              "    height: 32px;\n",
              "    padding: 0;\n",
              "    width: 32px;\n",
              "  }\n",
              "\n",
              "  .colab-df-quickchart:hover {\n",
              "    background-color: var(--hover-bg-color);\n",
              "    box-shadow: 0 1px 2px rgba(60, 64, 67, 0.3), 0 1px 3px 1px rgba(60, 64, 67, 0.15);\n",
              "    fill: var(--button-hover-fill-color);\n",
              "  }\n",
              "\n",
              "  .colab-df-quickchart-complete:disabled,\n",
              "  .colab-df-quickchart-complete:disabled:hover {\n",
              "    background-color: var(--disabled-bg-color);\n",
              "    fill: var(--disabled-fill-color);\n",
              "    box-shadow: none;\n",
              "  }\n",
              "\n",
              "  .colab-df-spinner {\n",
              "    border: 2px solid var(--fill-color);\n",
              "    border-color: transparent;\n",
              "    border-bottom-color: var(--fill-color);\n",
              "    animation:\n",
              "      spin 1s steps(1) infinite;\n",
              "  }\n",
              "\n",
              "  @keyframes spin {\n",
              "    0% {\n",
              "      border-color: transparent;\n",
              "      border-bottom-color: var(--fill-color);\n",
              "      border-left-color: var(--fill-color);\n",
              "    }\n",
              "    20% {\n",
              "      border-color: transparent;\n",
              "      border-left-color: var(--fill-color);\n",
              "      border-top-color: var(--fill-color);\n",
              "    }\n",
              "    30% {\n",
              "      border-color: transparent;\n",
              "      border-left-color: var(--fill-color);\n",
              "      border-top-color: var(--fill-color);\n",
              "      border-right-color: var(--fill-color);\n",
              "    }\n",
              "    40% {\n",
              "      border-color: transparent;\n",
              "      border-right-color: var(--fill-color);\n",
              "      border-top-color: var(--fill-color);\n",
              "    }\n",
              "    60% {\n",
              "      border-color: transparent;\n",
              "      border-right-color: var(--fill-color);\n",
              "    }\n",
              "    80% {\n",
              "      border-color: transparent;\n",
              "      border-right-color: var(--fill-color);\n",
              "      border-bottom-color: var(--fill-color);\n",
              "    }\n",
              "    90% {\n",
              "      border-color: transparent;\n",
              "      border-bottom-color: var(--fill-color);\n",
              "    }\n",
              "  }\n",
              "</style>\n",
              "\n",
              "  <script>\n",
              "    async function quickchart(key) {\n",
              "      const quickchartButtonEl =\n",
              "        document.querySelector('#' + key + ' button');\n",
              "      quickchartButtonEl.disabled = true;  // To prevent multiple clicks.\n",
              "      quickchartButtonEl.classList.add('colab-df-spinner');\n",
              "      try {\n",
              "        const charts = await google.colab.kernel.invokeFunction(\n",
              "            'suggestCharts', [key], {});\n",
              "      } catch (error) {\n",
              "        console.error('Error during call to suggestCharts:', error);\n",
              "      }\n",
              "      quickchartButtonEl.classList.remove('colab-df-spinner');\n",
              "      quickchartButtonEl.classList.add('colab-df-quickchart-complete');\n",
              "    }\n",
              "    (() => {\n",
              "      let quickchartButtonEl =\n",
              "        document.querySelector('#df-04cc3928-ce03-4390-a020-a3c348bce3e2 button');\n",
              "      quickchartButtonEl.style.display =\n",
              "        google.colab.kernel.accessAllowed ? 'block' : 'none';\n",
              "    })();\n",
              "  </script>\n",
              "</div>\n",
              "    </div>\n",
              "  </div>\n"
            ]
          },
          "metadata": {},
          "execution_count": 4
        }
      ]
    },
    {
      "cell_type": "markdown",
      "source": [
        "Next, we'll print a report with the number of positive and negative tweets. It is also essential to know the data structure of the datasets"
      ],
      "metadata": {
        "id": "Qee7_MR7AhKQ"
      }
    },
    {
      "cell_type": "code",
      "source": [
        "print('Number of positive tweets: ', len(all_positive_tweets))\n",
        "print('Number of negative tweets: ', len(all_negative_tweets))\n",
        "\n",
        "print('\\nThe type of all_positive_tweets is: ', type(all_positive_tweets))\n",
        "print('The type of a tweet entry is: ', type(all_negative_tweets[0]))"
      ],
      "metadata": {
        "colab": {
          "base_uri": "https://localhost:8080/"
        },
        "id": "-YJKjnsRAOmP",
        "outputId": "6774d4c2-19ea-4bd7-f36a-589cf4945a3e"
      },
      "execution_count": 5,
      "outputs": [
        {
          "output_type": "stream",
          "name": "stdout",
          "text": [
            "Number of positive tweets:  5000\n",
            "Number of negative tweets:  5000\n",
            "\n",
            "The type of all_positive_tweets is:  <class 'pandas.core.frame.DataFrame'>\n",
            "The type of a tweet entry is:  <class 'str'>\n"
          ]
        }
      ]
    },
    {
      "cell_type": "markdown",
      "source": [
        "We can see that the data is stored in a list and as you might expect, individual tweets are stored as strings.\n",
        "\n",
        "You can make a more visually appealing report by using Matplotlib's [pyplot](https://matplotlib.org/tutorials/introductory/pyplot.html) library. Let us see how to create a [pie chart](https://matplotlib.org/3.2.1/gallery/pie_and_polar_charts/pie_features.html#sphx-glr-gallery-pie-and-polar-charts-pie-features-py) to show the same information as above. This simple snippet will serve you in future visualizations of this kind of data."
      ],
      "metadata": {
        "id": "s8l2yJO4ArPA"
      }
    },
    {
      "cell_type": "code",
      "source": [
        "# Declare a figure with a custom size\n",
        "fig = plt.figure(figsize=(5, 5))\n",
        "\n",
        "# labels for the two classes\n",
        "labels = 'Positives', 'Negative'\n",
        "\n",
        "# Sizes for each slide\n",
        "sizes = [len(all_positive_tweets), len(all_negative_tweets)]\n",
        "\n",
        "# Declare pie chart, where the slices will be ordered and plotted counter-clockwise:\n",
        "plt.pie(sizes, labels=labels, autopct='%1.1f%%',\n",
        "        shadow=True, startangle=90)\n",
        "\n",
        "# Equal aspect ratio ensures that pie is drawn as a circle.\n",
        "plt.axis('equal')\n",
        "\n",
        "# Display the chart\n",
        "plt.show()"
      ],
      "metadata": {
        "colab": {
          "base_uri": "https://localhost:8080/",
          "height": 422
        },
        "id": "nMt7yDdmAOo1",
        "outputId": "a9dea4c8-b95e-46f2-ba85-999b2111f715"
      },
      "execution_count": 6,
      "outputs": [
        {
          "output_type": "display_data",
          "data": {
            "text/plain": [
              "<Figure size 500x500 with 1 Axes>"
            ],
            "image/png": "[encoded data removed]"
          },
          "metadata": {}
        }
      ]
    },
    {
      "cell_type": "markdown",
      "source": [
        "## Looking at raw texts\n",
        "\n",
        "Before anything else, we can print a couple of tweets from the dataset to see how they look. Understanding the data is responsible for 80% of the success or failure in data science projects. We can use this time to observe aspects we'd like to consider when preprocessing our data.\n",
        "\n",
        "Below, you will print one random positive and one random negative tweet. We have added a color mark at the beginning of the string to further distinguish the two. (Warning: This is taken from a public dataset of real tweets and a very small portion has explicit content.)"
      ],
      "metadata": {
        "id": "E-526Xb-Av3C"
      }
    },
    {
      "cell_type": "code",
      "source": [
        "# print positive in greeen\n",
        "#print('\\033[92m' + all_positive_tweets[random.randint(0,5000)])\n",
        "\n",
        "# print negative in red\n",
        "print('\\033[91m' + all_negative_tweets[random.randint(0,5000)])"
      ],
      "metadata": {
        "colab": {
          "base_uri": "https://localhost:8080/"
        },
        "id": "g_GDKM_XAOrw",
        "outputId": "3a92c2da-5499-4aad-c599-80cfc3d729c5"
      },
      "execution_count": 7,
      "outputs": [
        {
          "output_type": "stream",
          "name": "stdout",
          "text": [
            "\u001b[91mI already miss her. That old _  _ _ :(\n"
          ]
        }
      ]
    },
    {
      "cell_type": "markdown",
      "source": [
        "One observation you may have is the presence of [emoticons](https://en.wikipedia.org/wiki/Emoticon) and URLs in many of the tweets. This info will come in handy in the next steps."
      ],
      "metadata": {
        "id": "KPr1HsHxBdPq"
      }
    },
    {
      "cell_type": "markdown",
      "source": [
        "## Preprocess raw text for Sentiment analysis"
      ],
      "metadata": {
        "id": "tyXFrkt0BjZK"
      }
    },
    {
      "cell_type": "markdown",
      "source": [
        "Data preprocessing is one of the critical steps in any machine learning project. It includes cleaning and formatting the data before feeding into a machine learning algorithm. For NLP, the preprocessing steps are comprised of the following tasks:\n",
        "\n",
        "* Tokenizing the string\n",
        "* Lowercasing\n",
        "* Removing stop words and punctuation\n",
        "* Stemming\n"
      ],
      "metadata": {
        "id": "fUe15Qd3BjcI"
      }
    },
    {
      "cell_type": "code",
      "source": [
        "# Our selected sample. Complex enough to exemplify each step\n",
        "tweet = all_positive_tweets.iloc[2277][0]\n",
        "print(tweet)"
      ],
      "metadata": {
        "colab": {
          "base_uri": "https://localhost:8080/"
        },
        "id": "HY_03FdzDRMq",
        "outputId": "1ab77907-eee9-4de7-812e-96fc65ceafd9"
      },
      "execution_count": 8,
      "outputs": [
        {
          "output_type": "stream",
          "name": "stdout",
          "text": [
            "My beautiful sunflowers on a sunny Friday morning off :) #sunflowers #favourites #happy #Friday off… https://t.co/3tfYom0N1i\n"
          ]
        }
      ]
    },
    {
      "cell_type": "markdown",
      "source": [
        "Let's import a few more libraries for this purpose."
      ],
      "metadata": {
        "id": "KggyODa7Cbzx"
      }
    },
    {
      "cell_type": "code",
      "source": [
        "# download the stopwords from NLTK\n",
        "nltk.download('stopwords')"
      ],
      "metadata": {
        "colab": {
          "base_uri": "https://localhost:8080/"
        },
        "id": "d5F7xptyBrpp",
        "outputId": "66696a5d-80ee-40b7-8044-5e3400f45036"
      },
      "execution_count": 9,
      "outputs": [
        {
          "output_type": "stream",
          "name": "stderr",
          "text": [
            "[nltk_data] Downloading package stopwords to /root/nltk_data...\n",
            "[nltk_data]   Unzipping corpora/stopwords.zip.\n"
          ]
        },
        {
          "output_type": "execute_result",
          "data": {
            "text/plain": [
              "True"
            ]
          },
          "metadata": {},
          "execution_count": 9
        }
      ]
    },
    {
      "cell_type": "markdown",
      "source": [
        "### Remove hyperlinks,  Twitter marks and styles\n",
        "\n",
        "Since we have a Twitter dataset, we'd like to remove some substrings commonly used on the platform like the hashtag, retweet marks, and hyperlinks. We'll use the [re](https://docs.python.org/3/library/re.html) library to perform regular expression operations on our tweet. We'll define our search pattern and use the `sub()` method to remove matches by substituting with an empty character (i.e. `''`)"
      ],
      "metadata": {
        "id": "WpZ8BVkdCgJY"
      }
    },
    {
      "cell_type": "code",
      "source": [
        "print('\\033[92m' + tweet)\n",
        "print('\\033[94m')\n",
        "\n",
        "# remove old style retweet text \"RT\"\n",
        "tweet2 = re.sub(r'^RT[\\s]+', '', tweet)\n",
        "\n",
        "# remove hyperlinks\n",
        "tweet2 = re.sub(r'https?://[^\\s\\n\\r]+', '', tweet2)\n",
        "\n",
        "# remove hashtags\n",
        "# only removing the hash # sign from the word\n",
        "tweet2 = re.sub(r'#', '', tweet2)\n",
        "\n",
        "print(tweet2)"
      ],
      "metadata": {
        "colab": {
          "base_uri": "https://localhost:8080/"
        },
        "id": "0fAbOoJyBrvQ",
        "outputId": "e71db698-3bd9-4eff-c463-4c29133ab961"
      },
      "execution_count": 10,
      "outputs": [
        {
          "output_type": "stream",
          "name": "stdout",
          "text": [
            "\u001b[92mMy beautiful sunflowers on a sunny Friday morning off :) #sunflowers #favourites #happy #Friday off… https://t.co/3tfYom0N1i\n",
            "\u001b[94m\n",
            "My beautiful sunflowers on a sunny Friday morning off :) sunflowers favourites happy Friday off… \n"
          ]
        }
      ]
    },
    {
      "cell_type": "markdown",
      "source": [
        "### Tokenize the string\n",
        "\n",
        "To tokenize means to split the strings into individual words without blanks or tabs. In this same step, we will also convert each word in the string to lower case. The [tokenize](https://www.nltk.org/api/nltk.tokenize.html#module-nltk.tokenize.casual) module from NLTK allows us to do these easily:"
      ],
      "metadata": {
        "id": "_HP5tmiJDlqx"
      }
    },
    {
      "cell_type": "code",
      "source": [
        "print()\n",
        "print('\\033[92m' + tweet2)\n",
        "print('\\033[94m')\n",
        "\n",
        "# instantiate tokenizer class\n",
        "tokenizer = TweetTokenizer(preserve_case=False, strip_handles=True,\n",
        "                               reduce_len=True)\n",
        "\n",
        "# tokenize tweets\n",
        "tweet_tokens = tokenizer.tokenize(tweet2)\n",
        "\n",
        "print()\n",
        "print('Tokenized string:')\n",
        "print(tweet_tokens)"
      ],
      "metadata": {
        "colab": {
          "base_uri": "https://localhost:8080/"
        },
        "id": "qakdEIRVDkRK",
        "outputId": "f4cbc969-7bd7-4019-ff9a-e292ffa0fc74"
      },
      "execution_count": 11,
      "outputs": [
        {
          "output_type": "stream",
          "name": "stdout",
          "text": [
            "\n",
            "\u001b[92mMy beautiful sunflowers on a sunny Friday morning off :) sunflowers favourites happy Friday off… \n",
            "\u001b[94m\n",
            "\n",
            "Tokenized string:\n",
            "['my', 'beautiful', 'sunflowers', 'on', 'a', 'sunny', 'friday', 'morning', 'off', ':)', 'sunflowers', 'favourites', 'happy', 'friday', 'off', '…']\n"
          ]
        }
      ]
    },
    {
      "cell_type": "markdown",
      "source": [
        "### Remove stop words and punctuations\n",
        "\n",
        "The next step is to remove stop words and punctuation. Stop words are words that don't add significant meaning to the text. You'll see the list provided by NLTK when you run the cells below."
      ],
      "metadata": {
        "id": "nwtaVcCVDo0N"
      }
    },
    {
      "cell_type": "code",
      "source": [
        "#Import the english stop words list from NLTK\n",
        "stopwords_english = stopwords.words('english')\n",
        "\n",
        "print('Stop words\\n')\n",
        "print(stopwords_english)\n",
        "\n",
        "print('\\nPunctuation\\n')\n",
        "print(string.punctuation)"
      ],
      "metadata": {
        "colab": {
          "base_uri": "https://localhost:8080/"
        },
        "id": "pFUD44DYDkUB",
        "outputId": "323ee058-a3e6-4f2c-8a64-ad7385757ec2"
      },
      "execution_count": 12,
      "outputs": [
        {
          "output_type": "stream",
          "name": "stdout",
          "text": [
            "Stop words\n",
            "\n",
            "['i', 'me', 'my', 'myself', 'we', 'our', 'ours', 'ourselves', 'you', \"you're\", \"you've\", \"you'll\", \"you'd\", 'your', 'yours', 'yourself', 'yourselves', 'he', 'him', 'his', 'himself', 'she', \"she's\", 'her', 'hers', 'herself', 'it', \"it's\", 'its', 'itself', 'they', 'them', 'their', 'theirs', 'themselves', 'what', 'which', 'who', 'whom', 'this', 'that', \"that'll\", 'these', 'those', 'am', 'is', 'are', 'was', 'were', 'be', 'been', 'being', 'have', 'has', 'had', 'having', 'do', 'does', 'did', 'doing', 'a', 'an', 'the', 'and', 'but', 'if', 'or', 'because', 'as', 'until', 'while', 'of', 'at', 'by', 'for', 'with', 'about', 'against', 'between', 'into', 'through', 'during', 'before', 'after', 'above', 'below', 'to', 'from', 'up', 'down', 'in', 'out', 'on', 'off', 'over', 'under', 'again', 'further', 'then', 'once', 'here', 'there', 'when', 'where', 'why', 'how', 'all', 'any', 'both', 'each', 'few', 'more', 'most', 'other', 'some', 'such', 'no', 'nor', 'not', 'only', 'own', 'same', 'so', 'than', 'too', 'very', 's', 't', 'can', 'will', 'just', 'don', \"don't\", 'should', \"should've\", 'now', 'd', 'll', 'm', 'o', 're', 've', 'y', 'ain', 'aren', \"aren't\", 'couldn', \"couldn't\", 'didn', \"didn't\", 'doesn', \"doesn't\", 'hadn', \"hadn't\", 'hasn', \"hasn't\", 'haven', \"haven't\", 'isn', \"isn't\", 'ma', 'mightn', \"mightn't\", 'mustn', \"mustn't\", 'needn', \"needn't\", 'shan', \"shan't\", 'shouldn', \"shouldn't\", 'wasn', \"wasn't\", 'weren', \"weren't\", 'won', \"won't\", 'wouldn', \"wouldn't\"]\n",
            "\n",
            "Punctuation\n",
            "\n",
            "!\"#$%&'()*+,-./:;<=>?@[\\]^_`{|}~\n"
          ]
        }
      ]
    },
    {
      "cell_type": "markdown",
      "source": [
        "We can see that the stop words list above contains some words that could be important in some contexts.\n",
        "These could be words like _i, not, between, because, won, against_. You might need to customize the stop words list for some applications. For our exercise, we will use the entire list.\n",
        "\n",
        "For the punctuation, we saw earlier that certain groupings like ':)' and '...'  should be retained when dealing with tweets because they are used to express emotions. In other contexts, like medical analysis, these should also be removed.\n",
        "\n",
        "Time to clean up our tokenized tweet!"
      ],
      "metadata": {
        "id": "IXV9dQQ0Dx9z"
      }
    },
    {
      "cell_type": "code",
      "source": [
        "print()\n",
        "print('\\033[92m')\n",
        "print(tweet_tokens)\n",
        "print('\\033[94m')\n",
        "\n",
        "tweets_clean = []\n",
        "\n",
        "for word in tweet_tokens: # Go through every word in your tokens list\n",
        "    if (word not in stopwords_english and  # remove stopwords\n",
        "        word not in string.punctuation):  # remove punctuation\n",
        "        tweets_clean.append(word)\n",
        "\n",
        "print('removed stop words and punctuation:')\n",
        "print(tweets_clean)"
      ],
      "metadata": {
        "colab": {
          "base_uri": "https://localhost:8080/"
        },
        "id": "bITitFZUDkW5",
        "outputId": "babddebc-7d7f-4bc9-84aa-a14baf94a49d"
      },
      "execution_count": 13,
      "outputs": [
        {
          "output_type": "stream",
          "name": "stdout",
          "text": [
            "\n",
            "\u001b[92m\n",
            "['my', 'beautiful', 'sunflowers', 'on', 'a', 'sunny', 'friday', 'morning', 'off', ':)', 'sunflowers', 'favourites', 'happy', 'friday', 'off', '…']\n",
            "\u001b[94m\n",
            "removed stop words and punctuation:\n",
            "['beautiful', 'sunflowers', 'sunny', 'friday', 'morning', ':)', 'sunflowers', 'favourites', 'happy', 'friday', '…']\n"
          ]
        }
      ]
    },
    {
      "cell_type": "markdown",
      "source": [
        "Please note that the words **happy** and **sunny** in this list are correctly spelled."
      ],
      "metadata": {
        "id": "AsoptR4AD3jB"
      }
    },
    {
      "cell_type": "markdown",
      "source": [
        "### Stemming\n",
        "\n",
        "Stemming is the process of converting a word to its most general form, or stem. This helps in reducing the size of our vocabulary.\n",
        "\n",
        "Consider the words:\n",
        " * **learn**\n",
        " * **learn**ing\n",
        " * **learn**ed\n",
        " * **learn**t\n",
        "\n",
        "All these words are stemmed from its common root **learn**. However, in some cases, the stemming process produces words that are not correct spellings of the root word. For example, **happi** and **sunni**. That's because it chooses the most common stem for related words. For example, we can look at the set of words that comprises the different forms of happy:\n",
        "\n",
        " * **happ**y\n",
        " * **happi**ness\n",
        " * **happi**er\n",
        "\n",
        "We can see that the prefix **happi** is more commonly used. We cannot choose **happ** because it is the stem of unrelated words like **happen**.\n",
        "\n",
        "NLTK has different modules for stemming and we will be using the [PorterStemmer](https://www.nltk.org/api/nltk.stem.html#module-nltk.stem.porter) module which uses the [Porter Stemming Algorithm](https://tartarus.org/martin/PorterStemmer/). Let's see how we can use it in the cell below."
      ],
      "metadata": {
        "id": "bW29-Y03D7yi"
      }
    },
    {
      "cell_type": "code",
      "source": [
        "print()\n",
        "print('\\033[92m')\n",
        "print(tweets_clean)\n",
        "print('\\033[94m')\n",
        "\n",
        "# Instantiate stemming class\n",
        "stemmer = PorterStemmer()\n",
        "\n",
        "# Create an empty list to store the stems\n",
        "tweets_stem = []\n",
        "\n",
        "for word in tweets_clean:\n",
        "    stem_word = stemmer.stem(word)  # stemming word\n",
        "    tweets_stem.append(stem_word)  # append to the list\n",
        "\n",
        "print('stemmed words:')\n",
        "print(tweets_stem)"
      ],
      "metadata": {
        "colab": {
          "base_uri": "https://localhost:8080/"
        },
        "id": "BP4ZMJ4oDkah",
        "outputId": "841a9311-5637-4b60-9daf-748dcabc5c11"
      },
      "execution_count": 14,
      "outputs": [
        {
          "output_type": "stream",
          "name": "stdout",
          "text": [
            "\n",
            "\u001b[92m\n",
            "['beautiful', 'sunflowers', 'sunny', 'friday', 'morning', ':)', 'sunflowers', 'favourites', 'happy', 'friday', '…']\n",
            "\u001b[94m\n",
            "stemmed words:\n",
            "['beauti', 'sunflow', 'sunni', 'friday', 'morn', ':)', 'sunflow', 'favourit', 'happi', 'friday', '…']\n"
          ]
        }
      ]
    },
    {
      "cell_type": "markdown",
      "source": [
        "## process_tweet()\n",
        "\n",
        "As shown above, preprocessing consists of multiple steps before you arrive at the final list of words. We will not ask you to replicate these however. In the week's assignment, you will use the function `process_tweet(tweet)` available in _utils.py_. We encourage you to open the file and you'll see that this function's implementation is very similar to the steps above.\n",
        "\n",
        "To obtain the same result as in the previous code cells, you will only need to call the function `process_tweet()`. Let's do that in the next cell."
      ],
      "metadata": {
        "id": "EaXC4WSdEBMl"
      }
    },
    {
      "cell_type": "markdown",
      "source": [
        "#### Import some helper functions that we provided in the utils.py file:\n",
        "* `process_tweet()`: Cleans the text, tokenizes it into separate words, removes stopwords, and converts words to stems.\n",
        "* `build_freqs()`: This counts how often a word in the 'corpus' (the entire set of tweets) was associated with a positive label `1` or a negative label `0`. It then builds the `freqs` dictionary, where each key is a `(word,label)` tuple, and the value is the count of its frequency within the corpus of tweets."
      ],
      "metadata": {
        "id": "ouWV0iBGOhoX"
      }
    },
    {
      "cell_type": "code",
      "source": [
        "def process_tweet(tweet):\n",
        "    \"\"\"Process tweet function.\n",
        "    Input:\n",
        "        tweet: a string containing a tweet\n",
        "    Output:\n",
        "        tweets_clean: a list of words containing the processed tweet\n",
        "\n",
        "    \"\"\"\n",
        "    stemmer = PorterStemmer()\n",
        "    stopwords_english = stopwords.words('english')\n",
        "    # remove stock market tickers like $GE\n",
        "    tweet = re.sub(r'\\$\\w*', '', tweet)\n",
        "    # remove old style retweet text \"RT\"\n",
        "    tweet = re.sub(r'^RT[\\s]+', '', tweet)\n",
        "    # remove hyperlinks\n",
        "    tweet = re.sub(r'https?://[^\\s\\n\\r]+', '', tweet)\n",
        "    # remove hashtags\n",
        "    # only removing the hash # sign from the word\n",
        "    tweet = re.sub(r'#', '', tweet)\n",
        "    # tokenize tweets\n",
        "    tokenizer = TweetTokenizer(preserve_case=False, strip_handles=True,\n",
        "                               reduce_len=True)\n",
        "    tweet_tokens = tokenizer.tokenize(tweet)\n",
        "\n",
        "    tweets_clean = []\n",
        "    for word in tweet_tokens:\n",
        "        if (word not in stopwords_english and  # remove stopwords\n",
        "                word not in string.punctuation):  # remove punctuation\n",
        "            # tweets_clean.append(word)\n",
        "            stem_word = stemmer.stem(word)  # stemming word\n",
        "            tweets_clean.append(stem_word)\n",
        "\n",
        "    return tweets_clean\n",
        "\n",
        "\n",
        "def build_freqs(tweets, ys):\n",
        "    \"\"\"Build frequencies.\n",
        "    Input:\n",
        "        tweets: a list of tweets\n",
        "        ys: an m x 1 array with the sentiment label of each tweet\n",
        "            (either 0 or 1)\n",
        "    Output:\n",
        "        freqs: a dictionary mapping each (word, sentiment) pair to its\n",
        "        frequency\n",
        "    \"\"\"\n",
        "    # Convert np array to list since zip needs an iterable.\n",
        "    # The squeeze is necessary or the list ends up with one element.\n",
        "    # Also note that this is just a NOP if ys is already a list.\n",
        "    yslist = np.squeeze(ys).tolist()\n",
        "\n",
        "    # Start with an empty dictionary and populate it by looping over all tweets\n",
        "    # and over all processed words in each tweet.\n",
        "    freqs = {}\n",
        "    for y, tweet in zip(yslist, tweets):\n",
        "        for word in process_tweet(tweet):\n",
        "            pair = (word, y)\n",
        "            if pair in freqs:\n",
        "                freqs[pair] += 1\n",
        "            else:\n",
        "                freqs[pair] = 1\n",
        "\n",
        "    return freqs\n"
      ],
      "metadata": {
        "id": "0DZEZlS9NVn2"
      },
      "execution_count": 15,
      "outputs": []
    },
    {
      "cell_type": "code",
      "source": [
        "# choose the same tweet\n",
        "tweet = all_positive_tweets.iloc[2277][0]\n",
        "\n",
        "print()\n",
        "print('\\033[92m')\n",
        "print(tweet)\n",
        "print('\\033[94m')\n",
        "\n",
        "# call the imported function\n",
        "tweets_stem = process_tweet(tweet); # Preprocess a given tweet\n",
        "\n",
        "print('preprocessed tweet:')\n",
        "print(tweets_stem) # Print the result"
      ],
      "metadata": {
        "colab": {
          "base_uri": "https://localhost:8080/"
        },
        "id": "vFcpnAg2ECSh",
        "outputId": "63b65197-47e6-4dbf-95e4-609c9a847d8a"
      },
      "execution_count": 16,
      "outputs": [
        {
          "output_type": "stream",
          "name": "stdout",
          "text": [
            "\n",
            "\u001b[92m\n",
            "My beautiful sunflowers on a sunny Friday morning off :) #sunflowers #favourites #happy #Friday off… https://t.co/3tfYom0N1i\n",
            "\u001b[94m\n",
            "preprocessed tweet:\n",
            "['beauti', 'sunflow', 'sunni', 'friday', 'morn', ':)', 'sunflow', 'favourit', 'happi', 'friday', '…']\n"
          ]
        }
      ]
    },
    {
      "cell_type": "markdown",
      "source": [],
      "metadata": {
        "id": "H5HV8WkHPW4G"
      }
    },
    {
      "cell_type": "markdown",
      "source": [
        "# Building and Visualizing word frequencies\n",
        "\n",
        "We will focus on the `build_freqs()` helper function and visualizing a dataset fed into it. In our goal of tweet sentiment analysis, this function will build a dictionary where we can lookup how many times a word appears in the lists of positive or negative tweets. This will be very helpful when extracting the features. Let's see how this function is implemented under the hood in this notebook."
      ],
      "metadata": {
        "id": "mQo8uf7IN5--"
      }
    },
    {
      "cell_type": "code",
      "source": [
        "# select the lists of positive and negative tweets\n",
        "all_positive_tweets = twitter_samples.strings('positive_tweets.json')\n",
        "all_negative_tweets = twitter_samples.strings('negative_tweets.json')\n",
        "\n",
        "# concatenate the lists, 1st part is the positive tweets followed by the negative\n",
        "tweets = all_positive_tweets + all_negative_tweets\n",
        "\n",
        "# let's see how many tweets we have\n",
        "print(\"Number of tweets: \", len(tweets))"
      ],
      "metadata": {
        "colab": {
          "base_uri": "https://localhost:8080/"
        },
        "id": "AwpNNQGLPa03",
        "outputId": "3297fc0e-24b5-4ffa-e36c-2cef48c9bc4e"
      },
      "execution_count": 17,
      "outputs": [
        {
          "output_type": "stream",
          "name": "stdout",
          "text": [
            "Number of tweets:  10000\n"
          ]
        }
      ]
    },
    {
      "cell_type": "code",
      "source": [
        "# make a numpy array representing labels of the tweets\n",
        "labels = np.append(np.ones((len(all_positive_tweets))), np.zeros((len(all_negative_tweets))))"
      ],
      "metadata": {
        "id": "xJs9fm5DECVR"
      },
      "execution_count": 18,
      "outputs": []
    },
    {
      "cell_type": "markdown",
      "source": [
        "## Dictionaries\n",
        "\n",
        "In Python, a dictionary is a mutable and indexed collection. It stores items as key-value pairs and uses [hash tables](https://en.wikipedia.org/wiki/Hash_table) underneath to allow practically constant time lookups. In NLP, dictionaries are essential because it enables fast retrieval of items or containment checks even with thousands of entries in the collection."
      ],
      "metadata": {
        "id": "MhL_qOWJOK7u"
      }
    },
    {
      "cell_type": "markdown",
      "source": [
        "### Definition\n",
        "\n",
        "A dictionary in Python is declared using curly brackets. Look at the next example:"
      ],
      "metadata": {
        "id": "b8oLhU8uOM80"
      }
    },
    {
      "cell_type": "code",
      "source": [
        "dictionary = {'key1': 1, 'key2': 2}"
      ],
      "metadata": {
        "id": "I6QtxVg2ECYK"
      },
      "execution_count": 19,
      "outputs": []
    },
    {
      "cell_type": "code",
      "source": [
        "# Add a new entry\n",
        "dictionary['key3'] = -5\n",
        "\n",
        "# Overwrite the value of key1\n",
        "dictionary['key1'] = 0\n",
        "\n",
        "print(dictionary)"
      ],
      "metadata": {
        "colab": {
          "base_uri": "https://localhost:8080/"
        },
        "id": "flageWPjOxq9",
        "outputId": "8d2adb46-27a8-4f44-82ee-d11666fbdd16"
      },
      "execution_count": 20,
      "outputs": [
        {
          "output_type": "stream",
          "name": "stdout",
          "text": [
            "{'key1': 0, 'key2': 2, 'key3': -5}\n"
          ]
        }
      ]
    },
    {
      "cell_type": "markdown",
      "source": [
        "### Accessing values and lookup keys\n",
        "\n",
        "Performing dictionary lookups and retrieval are common tasks in NLP. There are two ways to do this:\n",
        "\n",
        "* Using square bracket notation: This form is allowed if the lookup key is in the dictionary. It produces an error otherwise.\n",
        "* Using the [get()](https://docs.python.org/3/library/stdtypes.html#dict.get) method: This allows us to set a default value if the dictionary key does not exist.\n",
        "\n",
        "Let us see these in action:"
      ],
      "metadata": {
        "id": "Zkh_yUaQO0xM"
      }
    },
    {
      "cell_type": "markdown",
      "source": [
        "When using a square bracket lookup, it is common to use an if-else block to check for containment first (with the keyword `in`) before getting the item. On the other hand, you can use the `.get()` method if you want to set a default value when the key is not found. Let's compare these in the cells below:"
      ],
      "metadata": {
        "id": "gllp0j_oO6Pk"
      }
    },
    {
      "cell_type": "code",
      "source": [
        "# This prints a value\n",
        "if 'key1' in dictionary:\n",
        "    print(\"item found: \", dictionary['key1'])\n",
        "else:\n",
        "    print('key1 is not defined')\n",
        "\n",
        "# Same as what you get with get\n",
        "print(\"item found: \", dictionary.get('key1', -1))"
      ],
      "metadata": {
        "colab": {
          "base_uri": "https://localhost:8080/"
        },
        "id": "YCw76l-hO17k",
        "outputId": "e286dc73-626d-4133-f515-61368dedf109"
      },
      "execution_count": 21,
      "outputs": [
        {
          "output_type": "stream",
          "name": "stdout",
          "text": [
            "item found:  0\n",
            "item found:  0\n"
          ]
        }
      ]
    },
    {
      "cell_type": "code",
      "source": [
        "# This prints a message because the key is not found\n",
        "if 'key7' in dictionary:\n",
        "    print(dictionary['key7'])\n",
        "else:\n",
        "    print('key does not exist!')\n",
        "\n",
        "# This prints -1 because the key is not found and we set the default to -1\n",
        "print(dictionary.get('key7', -1))"
      ],
      "metadata": {
        "colab": {
          "base_uri": "https://localhost:8080/"
        },
        "id": "HQMs4-4WO8rs",
        "outputId": "bab09c97-984c-4d91-8214-0e3ff1a8e508"
      },
      "execution_count": 22,
      "outputs": [
        {
          "output_type": "stream",
          "name": "stdout",
          "text": [
            "key does not exist!\n",
            "-1\n"
          ]
        }
      ]
    },
    {
      "cell_type": "markdown",
      "source": [
        "## Word frequency dictionary"
      ],
      "metadata": {
        "id": "HmWCOnXCPBcV"
      }
    },
    {
      "cell_type": "code",
      "source": [
        "labels"
      ],
      "metadata": {
        "colab": {
          "base_uri": "https://localhost:8080/"
        },
        "id": "FP6k1p_aPE4l",
        "outputId": "061bf838-ef4c-44fc-b99e-bd38d2d829af"
      },
      "execution_count": 23,
      "outputs": [
        {
          "output_type": "execute_result",
          "data": {
            "text/plain": [
              "array([1., 1., 1., ..., 0., 0., 0.])"
            ]
          },
          "metadata": {},
          "execution_count": 23
        }
      ]
    },
    {
      "cell_type": "code",
      "source": [
        "# create frequency dictionary\n",
        "freqs = build_freqs(tweets, labels)\n",
        "\n",
        "# check data type\n",
        "print(f'type(freqs) = {type(freqs)}')\n",
        "\n",
        "# check length of the dictionary\n",
        "print(f'len(freqs) = {len(freqs)}')"
      ],
      "metadata": {
        "colab": {
          "base_uri": "https://localhost:8080/"
        },
        "id": "mott81yrPAv0",
        "outputId": "b5409fa6-4edb-4f43-e464-4faf9e629cc2"
      },
      "execution_count": 24,
      "outputs": [
        {
          "output_type": "stream",
          "name": "stdout",
          "text": [
            "type(freqs) = <class 'dict'>\n",
            "len(freqs) = 13171\n"
          ]
        }
      ]
    },
    {
      "cell_type": "markdown",
      "source": [
        "## Word frequency dictionary"
      ],
      "metadata": {
        "id": "1uP3qD3ePv5E"
      }
    },
    {
      "cell_type": "code",
      "source": [
        "# create frequency dictionary\n",
        "freqs = build_freqs(tweets, labels)\n",
        "\n",
        "# check data type\n",
        "print(f'type(freqs) = {type(freqs)}')\n",
        "\n",
        "# check length of the dictionary\n",
        "print(f'len(freqs) = {len(freqs)}')"
      ],
      "metadata": {
        "colab": {
          "base_uri": "https://localhost:8080/"
        },
        "id": "M4axAi72PtNE",
        "outputId": "a2101e29-c707-4b37-bd7d-386f86b66b69"
      },
      "execution_count": 25,
      "outputs": [
        {
          "output_type": "stream",
          "name": "stdout",
          "text": [
            "type(freqs) = <class 'dict'>\n",
            "len(freqs) = 13171\n"
          ]
        }
      ]
    },
    {
      "cell_type": "code",
      "source": [
        "freqs"
      ],
      "metadata": {
        "colab": {
          "base_uri": "https://localhost:8080/"
        },
        "id": "qlNYpEo3P2W2",
        "outputId": "4171c2f4-d954-4a52-b013-8bba8ccc1467"
      },
      "execution_count": 26,
      "outputs": [
        {
          "output_type": "execute_result",
          "data": {
            "text/plain": [
              "{('followfriday', 1.0): 25,\n",
              " ('top', 1.0): 32,\n",
              " ('engag', 1.0): 7,\n",
              " ('member', 1.0): 16,\n",
              " ('commun', 1.0): 33,\n",
              " ('week', 1.0): 83,\n",
              " (':)', 1.0): 3691,\n",
              " ('hey', 1.0): 77,\n",
              " ('jame', 1.0): 7,\n",
              " ('odd', 1.0): 2,\n",
              " (':/', 1.0): 5,\n",
              " ('pleas', 1.0): 99,\n",
              " ('call', 1.0): 37,\n",
              " ('contact', 1.0): 7,\n",
              " ('centr', 1.0): 2,\n",
              " ('02392441234', 1.0): 1,\n",
              " ('abl', 1.0): 8,\n",
              " ('assist', 1.0): 1,\n",
              " ('mani', 1.0): 33,\n",
              " ('thank', 1.0): 643,\n",
              " ('listen', 1.0): 17,\n",
              " ('last', 1.0): 47,\n",
              " ('night', 1.0): 68,\n",
              " ('bleed', 1.0): 2,\n",
              " ('amaz', 1.0): 51,\n",
              " ('track', 1.0): 5,\n",
              " ('scotland', 1.0): 2,\n",
              " ('congrat', 1.0): 21,\n",
              " ('yeaaah', 1.0): 1,\n",
              " ('yipppi', 1.0): 1,\n",
              " ('accnt', 1.0): 2,\n",
              " ('verifi', 1.0): 2,\n",
              " ('rqst', 1.0): 1,\n",
              " ('succeed', 1.0): 1,\n",
              " ('got', 1.0): 69,\n",
              " ('blue', 1.0): 9,\n",
              " ('tick', 1.0): 1,\n",
              " ('mark', 1.0): 1,\n",
              " ('fb', 1.0): 6,\n",
              " ('profil', 1.0): 2,\n",
              " ('15', 1.0): 5,\n",
              " ('day', 1.0): 246,\n",
              " ('one', 1.0): 131,\n",
              " ('irresist', 1.0): 2,\n",
              " ('flipkartfashionfriday', 1.0): 17,\n",
              " ('like', 1.0): 233,\n",
              " ('keep', 1.0): 68,\n",
              " ('love', 1.0): 401,\n",
              " ('custom', 1.0): 4,\n",
              " ('wait', 1.0): 70,\n",
              " ('long', 1.0): 36,\n",
              " ('hope', 1.0): 143,\n",
              " ('enjoy', 1.0): 79,\n",
              " ('happi', 1.0): 212,\n",
              " ('friday', 1.0): 116,\n",
              " ('lwwf', 1.0): 1,\n",
              " ('second', 1.0): 10,\n",
              " ('thought', 1.0): 29,\n",
              " ('’', 1.0): 21,\n",
              " ('enough', 1.0): 18,\n",
              " ('time', 1.0): 128,\n",
              " ('dd', 1.0): 1,\n",
              " ('new', 1.0): 146,\n",
              " ('short', 1.0): 7,\n",
              " ('enter', 1.0): 9,\n",
              " ('system', 1.0): 2,\n",
              " ('sheep', 1.0): 1,\n",
              " ('must', 1.0): 19,\n",
              " ('buy', 1.0): 12,\n",
              " ('jgh', 1.0): 4,\n",
              " ('go', 1.0): 151,\n",
              " ('bayan', 1.0): 1,\n",
              " (':d', 1.0): 658,\n",
              " ('bye', 1.0): 8,\n",
              " ('act', 1.0): 8,\n",
              " ('mischiev', 1.0): 1,\n",
              " ('etl', 1.0): 1,\n",
              " ('layer', 1.0): 1,\n",
              " ('in-hous', 1.0): 1,\n",
              " ('wareh', 1.0): 1,\n",
              " ('app', 1.0): 16,\n",
              " ('katamari', 1.0): 1,\n",
              " ('well', 1.0): 81,\n",
              " ('…', 1.0): 38,\n",
              " ('name', 1.0): 18,\n",
              " ('impli', 1.0): 1,\n",
              " (':p', 1.0): 139,\n",
              " ('influenc', 1.0): 18,\n",
              " ('big', 1.0): 34,\n",
              " ('...', 1.0): 290,\n",
              " ('juici', 1.0): 3,\n",
              " ('selfi', 1.0): 12,\n",
              " ('follow', 1.0): 447,\n",
              " ('u', 1.0): 245,\n",
              " ('back', 1.0): 163,\n",
              " ('perfect', 1.0): 24,\n",
              " ('alreadi', 1.0): 28,\n",
              " ('know', 1.0): 155,\n",
              " (\"what'\", 1.0): 17,\n",
              " ('great', 1.0): 172,\n",
              " ('opportun', 1.0): 23,\n",
              " ('junior', 1.0): 2,\n",
              " ('triathlet', 1.0): 1,\n",
              " ('age', 1.0): 2,\n",
              " ('12', 1.0): 5,\n",
              " ('13', 1.0): 6,\n",
              " ('gatorad', 1.0): 1,\n",
              " ('seri', 1.0): 5,\n",
              " ('get', 1.0): 209,\n",
              " ('entri', 1.0): 4,\n",
              " ('lay', 1.0): 4,\n",
              " ('greet', 1.0): 5,\n",
              " ('card', 1.0): 8,\n",
              " ('rang', 1.0): 3,\n",
              " ('print', 1.0): 4,\n",
              " ('today', 1.0): 113,\n",
              " ('job', 1.0): 41,\n",
              " (':-)', 1.0): 701,\n",
              " (\"friend'\", 1.0): 3,\n",
              " ('lunch', 1.0): 5,\n",
              " ('yummm', 1.0): 1,\n",
              " ('nostalgia', 1.0): 1,\n",
              " ('tb', 1.0): 2,\n",
              " ('ku', 1.0): 1,\n",
              " ('id', 1.0): 8,\n",
              " ('conflict', 1.0): 1,\n",
              " ('help', 1.0): 44,\n",
              " (\"here'\", 1.0): 25,\n",
              " ('screenshot', 1.0): 3,\n",
              " ('work', 1.0): 111,\n",
              " ('hi', 1.0): 173,\n",
              " ('liv', 1.0): 2,\n",
              " ('hello', 1.0): 59,\n",
              " ('need', 1.0): 78,\n",
              " ('someth', 1.0): 28,\n",
              " ('fm', 1.0): 2,\n",
              " ('twitter', 1.0): 29,\n",
              " ('—', 1.0): 27,\n",
              " ('sure', 1.0): 59,\n",
              " ('thing', 1.0): 69,\n",
              " ('dm', 1.0): 39,\n",
              " ('x', 1.0): 72,\n",
              " (\"i'v\", 1.0): 35,\n",
              " ('heard', 1.0): 9,\n",
              " ('four', 1.0): 5,\n",
              " ('season', 1.0): 9,\n",
              " ('pretti', 1.0): 20,\n",
              " ('dope', 1.0): 2,\n",
              " ('penthous', 1.0): 1,\n",
              " ('obv', 1.0): 1,\n",
              " ('gobigorgohom', 1.0): 1,\n",
              " ('fun', 1.0): 58,\n",
              " (\"y'all\", 1.0): 4,\n",
              " ('yeah', 1.0): 47,\n",
              " ('suppos', 1.0): 7,\n",
              " ('lol', 1.0): 64,\n",
              " ('chat', 1.0): 13,\n",
              " ('bit', 1.0): 20,\n",
              " ('youth', 1.0): 19,\n",
              " ('💅🏽', 1.0): 1,\n",
              " ('💋', 1.0): 2,\n",
              " ('seen', 1.0): 10,\n",
              " ('year', 1.0): 43,\n",
              " ('rest', 1.0): 12,\n",
              " ('goe', 1.0): 7,\n",
              " ('quickli', 1.0): 3,\n",
              " ('bed', 1.0): 16,\n",
              " ('music', 1.0): 21,\n",
              " ('fix', 1.0): 10,\n",
              " ('dream', 1.0): 20,\n",
              " ('spiritu', 1.0): 1,\n",
              " ('ritual', 1.0): 1,\n",
              " ('festiv', 1.0): 8,\n",
              " ('népal', 1.0): 1,\n",
              " ('begin', 1.0): 4,\n",
              " ('line-up', 1.0): 4,\n",
              " ('left', 1.0): 13,\n",
              " ('see', 1.0): 186,\n",
              " ('sarah', 1.0): 4,\n",
              " ('send', 1.0): 23,\n",
              " ('us', 1.0): 115,\n",
              " ('email', 1.0): 26,\n",
              " ('bitsy@bitdefender.com', 1.0): 1,\n",
              " (\"we'll\", 1.0): 20,\n",
              " ('asap', 1.0): 5,\n",
              " ('kik', 1.0): 22,\n",
              " ('hatessuc', 1.0): 1,\n",
              " ('32429', 1.0): 1,\n",
              " ('kikm', 1.0): 1,\n",
              " ('lgbt', 1.0): 2,\n",
              " ('tinder', 1.0): 1,\n",
              " ('nsfw', 1.0): 1,\n",
              " ('akua', 1.0): 1,\n",
              " ('cumshot', 1.0): 1,\n",
              " ('come', 1.0): 71,\n",
              " ('hous', 1.0): 7,\n",
              " ('nsn_supplement', 1.0): 1,\n",
              " ('effect', 1.0): 4,\n",
              " ('press', 1.0): 1,\n",
              " ('releas', 1.0): 11,\n",
              " ('distribut', 1.0): 1,\n",
              " ('result', 1.0): 2,\n",
              " ('link', 1.0): 19,\n",
              " ('remov', 1.0): 3,\n",
              " ('pressreleas', 1.0): 1,\n",
              " ('newsdistribut', 1.0): 1,\n",
              " ('bam', 1.0): 44,\n",
              " ('bestfriend', 1.0): 50,\n",
              " ('lot', 1.0): 87,\n",
              " ('warsaw', 1.0): 44,\n",
              " ('<3', 1.0): 135,\n",
              " ('x46', 1.0): 1,\n",
              " ('everyon', 1.0): 58,\n",
              " ('watch', 1.0): 47,\n",
              " ('documentari', 1.0): 1,\n",
              " ('earthl', 1.0): 2,\n",
              " ('youtub', 1.0): 13,\n",
              " ('support', 1.0): 27,\n",
              " ('buuut', 1.0): 1,\n",
              " ('oh', 1.0): 53,\n",
              " ('look', 1.0): 139,\n",
              " ('forward', 1.0): 29,\n",
              " ('visit', 1.0): 30,\n",
              " ('next', 1.0): 48,\n",
              " ('letsgetmessi', 1.0): 1,\n",
              " ('jo', 1.0): 1,\n",
              " ('make', 1.0): 100,\n",
              " ('feel', 1.0): 46,\n",
              " ('better', 1.0): 52,\n",
              " ('never', 1.0): 37,\n",
              " ('anyon', 1.0): 11,\n",
              " ('kpop', 1.0): 1,\n",
              " ('flesh', 1.0): 1,\n",
              " ('good', 1.0): 238,\n",
              " ('girl', 1.0): 44,\n",
              " ('best', 1.0): 65,\n",
              " ('wish', 1.0): 37,\n",
              " ('reason', 1.0): 13,\n",
              " ('epic', 1.0): 2,\n",
              " ('soundtrack', 1.0): 1,\n",
              " ('shout', 1.0): 12,\n",
              " ('ad', 1.0): 14,\n",
              " ('video', 1.0): 35,\n",
              " ('playlist', 1.0): 5,\n",
              " ('im', 1.0): 54,\n",
              " ('twitch', 1.0): 8,\n",
              " ('leagu', 1.0): 6,\n",
              " ('1', 1.0): 79,\n",
              " ('4', 1.0): 26,\n",
              " ('would', 1.0): 84,\n",
              " ('dear', 1.0): 17,\n",
              " ('jordan', 1.0): 1,\n",
              " ('okay', 1.0): 39,\n",
              " ('fake', 1.0): 2,\n",
              " ('gameplay', 1.0): 2,\n",
              " (';)', 1.0): 27,\n",
              " ('haha', 1.0): 53,\n",
              " ('kid', 1.0): 18,\n",
              " ('stuff', 1.0): 13,\n",
              " ('exactli', 1.0): 6,\n",
              " ('product', 1.0): 12,\n",
              " ('line', 1.0): 6,\n",
              " ('etsi', 1.0): 1,\n",
              " ('shop', 1.0): 16,\n",
              " ('check', 1.0): 53,\n",
              " ('boxroomcraft', 1.0): 1,\n",
              " ('vacat', 1.0): 6,\n",
              " ('recharg', 1.0): 1,\n",
              " ('normal', 1.0): 6,\n",
              " ('charger', 1.0): 2,\n",
              " ('asleep', 1.0): 9,\n",
              " ('talk', 1.0): 46,\n",
              " ('sooo', 1.0): 6,\n",
              " ('someon', 1.0): 34,\n",
              " ('text', 1.0): 18,\n",
              " ('ye', 1.0): 77,\n",
              " ('bet', 1.0): 6,\n",
              " (\"he'll\", 1.0): 4,\n",
              " ('fit', 1.0): 3,\n",
              " ('hear', 1.0): 33,\n",
              " ('speech', 1.0): 1,\n",
              " ('piti', 1.0): 3,\n",
              " ('green', 1.0): 3,\n",
              " ('garden', 1.0): 7,\n",
              " ('midnight', 1.0): 1,\n",
              " ('sun', 1.0): 6,\n",
              " ('beauti', 1.0): 50,\n",
              " ('canal', 1.0): 1,\n",
              " ('dasvidaniya', 1.0): 1,\n",
              " ('till', 1.0): 18,\n",
              " ('scout', 1.0): 1,\n",
              " ('sg', 1.0): 1,\n",
              " ('futur', 1.0): 13,\n",
              " ('wlan', 1.0): 1,\n",
              " ('pro', 1.0): 5,\n",
              " ('confer', 1.0): 1,\n",
              " ('asia', 1.0): 1,\n",
              " ('chang', 1.0): 24,\n",
              " ('lollipop', 1.0): 1,\n",
              " ('🍭', 1.0): 1,\n",
              " ('nez', 1.0): 1,\n",
              " ('agnezmo', 1.0): 1,\n",
              " ('oley', 1.0): 1,\n",
              " ('mama', 1.0): 1,\n",
              " ('stand', 1.0): 8,\n",
              " ('stronger', 1.0): 1,\n",
              " ('god', 1.0): 20,\n",
              " ('misti', 1.0): 1,\n",
              " ('babi', 1.0): 20,\n",
              " ('cute', 1.0): 27,\n",
              " ('woohoo', 1.0): 3,\n",
              " (\"can't\", 1.0): 43,\n",
              " ('sign', 1.0): 11,\n",
              " ('yet', 1.0): 13,\n",
              " ('still', 1.0): 48,\n",
              " ('think', 1.0): 71,\n",
              " ('mka', 1.0): 5,\n",
              " ('liam', 1.0): 8,\n",
              " ('access', 1.0): 3,\n",
              " ('welcom', 1.0): 73,\n",
              " ('stat', 1.0): 60,\n",
              " ('arriv', 1.0): 67,\n",
              " ('unfollow', 1.0): 63,\n",
              " ('via', 1.0): 85,\n",
              " ('surpris', 1.0): 10,\n",
              " ('figur', 1.0): 5,\n",
              " ('happybirthdayemilybett', 1.0): 1,\n",
              " ('sweet', 1.0): 19,\n",
              " ('talent', 1.0): 5,\n",
              " ('2', 1.0): 58,\n",
              " ('plan', 1.0): 27,\n",
              " ('drain', 1.0): 1,\n",
              " ('gotta', 1.0): 5,\n",
              " ('timezon', 1.0): 1,\n",
              " ('parent', 1.0): 5,\n",
              " ('proud', 1.0): 12,\n",
              " ('least', 1.0): 16,\n",
              " ('mayb', 1.0): 18,\n",
              " ('sometim', 1.0): 13,\n",
              " ('grade', 1.0): 4,\n",
              " ('al', 1.0): 4,\n",
              " ('grand', 1.0): 4,\n",
              " ('manila_bro', 1.0): 2,\n",
              " ('chosen', 1.0): 1,\n",
              " ('let', 1.0): 83,\n",
              " ('around', 1.0): 17,\n",
              " ('..', 1.0): 129,\n",
              " ('side', 1.0): 15,\n",
              " ('world', 1.0): 27,\n",
              " ('eh', 1.0): 2,\n",
              " ('take', 1.0): 43,\n",
              " ('care', 1.0): 18,\n",
              " ('final', 1.0): 30,\n",
              " ('fuck', 1.0): 26,\n",
              " ('weekend', 1.0): 75,\n",
              " ('real', 1.0): 21,\n",
              " ('x45', 1.0): 1,\n",
              " ('join', 1.0): 23,\n",
              " ('hushedcallwithfraydo', 1.0): 1,\n",
              " ('gift', 1.0): 8,\n",
              " ('yeahhh', 1.0): 1,\n",
              " ('hushedpinwithsammi', 1.0): 2,\n",
              " ('event', 1.0): 9,\n",
              " ('might', 1.0): 27,\n",
              " ('luv', 1.0): 6,\n",
              " ('realli', 1.0): 79,\n",
              " ('appreci', 1.0): 31,\n",
              " ('share', 1.0): 46,\n",
              " ('wow', 1.0): 22,\n",
              " ('tom', 1.0): 6,\n",
              " ('3', 1.0): 33,\n",
              " ('gym', 1.0): 4,\n",
              " ('monday', 1.0): 9,\n",
              " ('invit', 1.0): 17,\n",
              " ('scope', 1.0): 5,\n",
              " ('friend', 1.0): 64,\n",
              " ('nude', 1.0): 2,\n",
              " ('sleep', 1.0): 45,\n",
              " ('birthday', 1.0): 74,\n",
              " ('want', 1.0): 98,\n",
              " ('t-shirt', 1.0): 3,\n",
              " ('cool', 1.0): 38,\n",
              " ('haw', 1.0): 1,\n",
              " ('phela', 1.0): 1,\n",
              " ('mom', 1.0): 10,\n",
              " ('obvious', 1.0): 2,\n",
              " ('princ', 1.0): 1,\n",
              " ('charm', 1.0): 1,\n",
              " ('stage', 1.0): 2,\n",
              " ('luck', 1.0): 30,\n",
              " ('tyler', 1.0): 2,\n",
              " ('hipster', 1.0): 1,\n",
              " ('glass', 1.0): 5,\n",
              " ('marti', 1.0): 2,\n",
              " ('glad', 1.0): 43,\n",
              " ('done', 1.0): 54,\n",
              " ('afternoon', 1.0): 10,\n",
              " ('read', 1.0): 35,\n",
              " ('kahfi', 1.0): 1,\n",
              " ('finish', 1.0): 17,\n",
              " ('ohmyg', 1.0): 1,\n",
              " ('yaya', 1.0): 3,\n",
              " ('dub', 1.0): 2,\n",
              " ('stalk', 1.0): 2,\n",
              " ('ig', 1.0): 3,\n",
              " ('gondooo', 1.0): 1,\n",
              " ('moo', 1.0): 2,\n",
              " ('tologooo', 1.0): 1,\n",
              " ('becom', 1.0): 10,\n",
              " ('detail', 1.0): 10,\n",
              " ('zzz', 1.0): 1,\n",
              " ('xx', 1.0): 42,\n",
              " ('physiotherapi', 1.0): 1,\n",
              " ('hashtag', 1.0): 5,\n",
              " ('💪', 1.0): 1,\n",
              " ('monica', 1.0): 1,\n",
              " ('miss', 1.0): 27,\n",
              " ('sound', 1.0): 23,\n",
              " ('morn', 1.0): 101,\n",
              " (\"that'\", 1.0): 67,\n",
              " ('x43', 1.0): 1,\n",
              " ('definit', 1.0): 23,\n",
              " ('tri', 1.0): 44,\n",
              " ('tonight', 1.0): 20,\n",
              " ('took', 1.0): 8,\n",
              " ('advic', 1.0): 6,\n",
              " ('treviso', 1.0): 1,\n",
              " ('concert', 1.0): 24,\n",
              " ('citi', 1.0): 27,\n",
              " ('countri', 1.0): 23,\n",
              " (\"i'll\", 1.0): 91,\n",
              " ('start', 1.0): 61,\n",
              " ('fine', 1.0): 11,\n",
              " ('gorgeou', 1.0): 12,\n",
              " ('xo', 1.0): 2,\n",
              " ('oven', 1.0): 3,\n",
              " ('roast', 1.0): 2,\n",
              " ('garlic', 1.0): 1,\n",
              " ('oliv', 1.0): 1,\n",
              " ('oil', 1.0): 4,\n",
              " ('dri', 1.0): 5,\n",
              " ('tomato', 1.0): 1,\n",
              " ('basil', 1.0): 1,\n",
              " ('centuri', 1.0): 1,\n",
              " ('tuna', 1.0): 1,\n",
              " ('right', 1.0): 47,\n",
              " ('atchya', 1.0): 1,\n",
              " ('even', 1.0): 35,\n",
              " ('almost', 1.0): 10,\n",
              " ('chanc', 1.0): 6,\n",
              " ('cheer', 1.0): 21,\n",
              " ('po', 1.0): 4,\n",
              " ('ice', 1.0): 6,\n",
              " ('cream', 1.0): 6,\n",
              " ('agre', 1.0): 16,\n",
              " ('100', 1.0): 8,\n",
              " ('heheheh', 1.0): 2,\n",
              " ('that', 1.0): 13,\n",
              " ('point', 1.0): 13,\n",
              " ('stay', 1.0): 26,\n",
              " ('home', 1.0): 31,\n",
              " ('soon', 1.0): 47,\n",
              " ('promis', 1.0): 6,\n",
              " ('web', 1.0): 4,\n",
              " ('whatsapp', 1.0): 5,\n",
              " ('volta', 1.0): 1,\n",
              " ('funcionar', 1.0): 1,\n",
              " ('com', 1.0): 2,\n",
              " ('iphon', 1.0): 7,\n",
              " ('jailbroken', 1.0): 1,\n",
              " ('later', 1.0): 17,\n",
              " ('34', 1.0): 3,\n",
              " ('min', 1.0): 9,\n",
              " ('leia', 1.0): 1,\n",
              " ('appear', 1.0): 3,\n",
              " ('hologram', 1.0): 1,\n",
              " ('r2d2', 1.0): 1,\n",
              " ('w', 1.0): 18,\n",
              " ('messag', 1.0): 10,\n",
              " ('obi', 1.0): 1,\n",
              " ('wan', 1.0): 3,\n",
              " ('sit', 1.0): 8,\n",
              " ('luke', 1.0): 6,\n",
              " ('inter', 1.0): 1,\n",
              " ('ucl', 1.0): 1,\n",
              " ('arsen', 1.0): 2,\n",
              " ('small', 1.0): 5,\n",
              " ('team', 1.0): 29,\n",
              " ('pass', 1.0): 12,\n",
              " ('🚂', 1.0): 1,\n",
              " ('dewsburi', 1.0): 2,\n",
              " ('railway', 1.0): 1,\n",
              " ('station', 1.0): 4,\n",
              " ('dew', 1.0): 1,\n",
              " ('west', 1.0): 3,\n",
              " ('yorkshir', 1.0): 2,\n",
              " ('430', 1.0): 1,\n",
              " ('smh', 1.0): 2,\n",
              " ('9:25', 1.0): 1,\n",
              " ('live', 1.0): 28,\n",
              " ('strang', 1.0): 4,\n",
              " ('imagin', 1.0): 5,\n",
              " ('megan', 1.0): 1,\n",
              " ('masaantoday', 1.0): 6,\n",
              " ('a4', 1.0): 3,\n",
              " ('shweta', 1.0): 1,\n",
              " ('tripathi', 1.0): 1,\n",
              " ('5', 1.0): 17,\n",
              " ('20', 1.0): 6,\n",
              " ('kurta', 1.0): 3,\n",
              " ('half', 1.0): 7,\n",
              " ('number', 1.0): 13,\n",
              " ('wsalelov', 1.0): 16,\n",
              " ('ah', 1.0): 13,\n",
              " ('larri', 1.0): 3,\n",
              " ('anyway', 1.0): 16,\n",
              " ('kinda', 1.0): 13,\n",
              " ('goood', 1.0): 4,\n",
              " ('life', 1.0): 49,\n",
              " ('enn', 1.0): 1,\n",
              " ('could', 1.0): 32,\n",
              " ('warmup', 1.0): 1,\n",
              " ('15th', 1.0): 2,\n",
              " ('bath', 1.0): 7,\n",
              " ('dum', 1.0): 2,\n",
              " ('andar', 1.0): 1,\n",
              " ('ram', 1.0): 1,\n",
              " ('sampath', 1.0): 1,\n",
              " ('sona', 1.0): 1,\n",
              " ('mohapatra', 1.0): 1,\n",
              " ('samantha', 1.0): 1,\n",
              " ('edward', 1.0): 1,\n",
              " ('mein', 1.0): 1,\n",
              " ('tulan', 1.0): 1,\n",
              " ('razi', 1.0): 2,\n",
              " ('wah', 1.0): 2,\n",
              " ('josh', 1.0): 1,\n",
              " ('alway', 1.0): 67,\n",
              " ('smile', 1.0): 62,\n",
              " ('pictur', 1.0): 12,\n",
              " ('16.20', 1.0): 1,\n",
              " ('giveitup', 1.0): 1,\n",
              " ('given', 1.0): 3,\n",
              " ('ga', 1.0): 3,\n",
              " ('subsidi', 1.0): 1,\n",
              " ('initi', 1.0): 4,\n",
              " ('propos', 1.0): 3,\n",
              " ('delight', 1.0): 7,\n",
              " ('yesterday', 1.0): 7,\n",
              " ('x42', 1.0): 1,\n",
              " ('lmaoo', 1.0): 2,\n",
              " ('song', 1.0): 22,\n",
              " ('ever', 1.0): 23,\n",
              " ('shall', 1.0): 6,\n",
              " ('littl', 1.0): 31,\n",
              " ('throwback', 1.0): 3,\n",
              " ('outli', 1.0): 1,\n",
              " ('island', 1.0): 5,\n",
              " ('cheung', 1.0): 1,\n",
              " ('chau', 1.0): 1,\n",
              " ('mui', 1.0): 1,\n",
              " ('wo', 1.0): 1,\n",
              " ('total', 1.0): 10,\n",
              " ('differ', 1.0): 11,\n",
              " ('kfckitchentour', 1.0): 2,\n",
              " ('kitchen', 1.0): 4,\n",
              " ('clean', 1.0): 1,\n",
              " (\"i'm\", 1.0): 183,\n",
              " ('cusp', 1.0): 1,\n",
              " ('test', 1.0): 7,\n",
              " ('water', 1.0): 8,\n",
              " ('reward', 1.0): 1,\n",
              " ('arummzz', 1.0): 2,\n",
              " (\"let'\", 1.0): 25,\n",
              " ('drive', 1.0): 11,\n",
              " ('travel', 1.0): 20,\n",
              " ('yogyakarta', 1.0): 3,\n",
              " ('jeep', 1.0): 3,\n",
              " ('indonesia', 1.0): 4,\n",
              " ('instamood', 1.0): 3,\n",
              " ('wanna', 1.0): 30,\n",
              " ('skype', 1.0): 3,\n",
              " ('may', 1.0): 22,\n",
              " ('nice', 1.0): 99,\n",
              " ('friendli', 1.0): 2,\n",
              " ('pretend', 1.0): 2,\n",
              " ('film', 1.0): 9,\n",
              " ('congratul', 1.0): 15,\n",
              " ('winner', 1.0): 4,\n",
              " ('cheesydelight', 1.0): 1,\n",
              " ('contest', 1.0): 6,\n",
              " ('address', 1.0): 10,\n",
              " ('guy', 1.0): 60,\n",
              " ('market', 1.0): 5,\n",
              " ('24/7', 1.0): 1,\n",
              " ('regret', 1.0): 5,\n",
              " ('14', 1.0): 1,\n",
              " ('hour', 1.0): 27,\n",
              " ('leav', 1.0): 13,\n",
              " ('without', 1.0): 12,\n",
              " ('delay', 1.0): 2,\n",
              " ('actual', 1.0): 19,\n",
              " ('easi', 1.0): 9,\n",
              " ('guess', 1.0): 14,\n",
              " ('train', 1.0): 10,\n",
              " ('wd', 1.0): 1,\n",
              " ('shift', 1.0): 5,\n",
              " ('engin', 1.0): 2,\n",
              " ('etc', 1.0): 2,\n",
              " ('sunburn', 1.0): 1,\n",
              " ('peel', 1.0): 2,\n",
              " ('blog', 1.0): 31,\n",
              " ('huge', 1.0): 11,\n",
              " ('warm', 1.0): 6,\n",
              " ('☆', 1.0): 3,\n",
              " ('complet', 1.0): 11,\n",
              " ('triangl', 1.0): 2,\n",
              " ('northern', 1.0): 1,\n",
              " ('ireland', 1.0): 2,\n",
              " ('sight', 1.0): 1,\n",
              " ('smthng', 1.0): 2,\n",
              " ('fr', 1.0): 3,\n",
              " ('hug', 1.0): 13,\n",
              " ('xoxo', 1.0): 3,\n",
              " ('uu', 1.0): 1,\n",
              " ('jaann', 1.0): 1,\n",
              " ('topnewfollow', 1.0): 2,\n",
              " ('connect', 1.0): 14,\n",
              " ('wonder', 1.0): 35,\n",
              " ('made', 1.0): 53,\n",
              " ('fluffi', 1.0): 1,\n",
              " ('insid', 1.0): 8,\n",
              " ('pirouett', 1.0): 1,\n",
              " ('moos', 1.0): 1,\n",
              " ('trip', 1.0): 14,\n",
              " ('philli', 1.0): 1,\n",
              " ('decemb', 1.0): 3,\n",
              " (\"i'd\", 1.0): 20,\n",
              " ('dude', 1.0): 6,\n",
              " ('x41', 1.0): 1,\n",
              " ('question', 1.0): 17,\n",
              " ('flaw', 1.0): 1,\n",
              " ('pain', 1.0): 9,\n",
              " ('negat', 1.0): 1,\n",
              " ('strength', 1.0): 3,\n",
              " ('went', 1.0): 12,\n",
              " ('solo', 1.0): 4,\n",
              " ('move', 1.0): 12,\n",
              " ('fav', 1.0): 13,\n",
              " ('nirvana', 1.0): 1,\n",
              " ('smell', 1.0): 2,\n",
              " ('teen', 1.0): 3,\n",
              " ('spirit', 1.0): 3,\n",
              " ('rip', 1.0): 3,\n",
              " ('ami', 1.0): 4,\n",
              " ('winehous', 1.0): 1,\n",
              " ('coupl', 1.0): 9,\n",
              " ('tomhiddleston', 1.0): 1,\n",
              " ('elizabetholsen', 1.0): 1,\n",
              " ('yaytheylookgreat', 1.0): 1,\n",
              " ('goodnight', 1.0): 24,\n",
              " ('vid', 1.0): 11,\n",
              " ('wake', 1.0): 12,\n",
              " ('gonna', 1.0): 21,\n",
              " ('shoot', 1.0): 6,\n",
              " ('itti', 1.0): 2,\n",
              " ('bitti', 1.0): 2,\n",
              " ('teeni', 1.0): 2,\n",
              " ('bikini', 1.0): 3,\n",
              " ('much', 1.0): 89,\n",
              " ('4th', 1.0): 4,\n",
              " ('togeth', 1.0): 7,\n",
              " ('end', 1.0): 20,\n",
              " ('xfile', 1.0): 1,\n",
              " ('content', 1.0): 4,\n",
              " ('rain', 1.0): 21,\n",
              " ('fabul', 1.0): 5,\n",
              " ('fantast', 1.0): 14,\n",
              " ('♡', 1.0): 20,\n",
              " ('jb', 1.0): 1,\n",
              " ('forev', 1.0): 5,\n",
              " ('belieb', 1.0): 3,\n",
              " ('nighti', 1.0): 1,\n",
              " ('bug', 1.0): 3,\n",
              " ('bite', 1.0): 1,\n",
              " ('bracelet', 1.0): 2,\n",
              " ('idea', 1.0): 27,\n",
              " ('foundri', 1.0): 1,\n",
              " ('game', 1.0): 27,\n",
              " ('sens', 1.0): 7,\n",
              " ('pic', 1.0): 27,\n",
              " ('ef', 1.0): 1,\n",
              " ('phone', 1.0): 19,\n",
              " ('woot', 1.0): 2,\n",
              " ('derek', 1.0): 1,\n",
              " ('use', 1.0): 44,\n",
              " ('parkshar', 1.0): 1,\n",
              " ('gloucestershir', 1.0): 1,\n",
              " ('aaaahhh', 1.0): 1,\n",
              " ('man', 1.0): 23,\n",
              " ('traffic', 1.0): 2,\n",
              " ('stress', 1.0): 8,\n",
              " ('reliev', 1.0): 1,\n",
              " (\"how'r\", 1.0): 1,\n",
              " ('arbeloa', 1.0): 1,\n",
              " ('turn', 1.0): 16,\n",
              " ('17', 1.0): 4,\n",
              " ('omg', 1.0): 15,\n",
              " ('say', 1.0): 61,\n",
              " ('europ', 1.0): 1,\n",
              " ('rise', 1.0): 2,\n",
              " ('find', 1.0): 25,\n",
              " ('hard', 1.0): 12,\n",
              " ('believ', 1.0): 9,\n",
              " ('uncount', 1.0): 1,\n",
              " ('coz', 1.0): 3,\n",
              " ('unlimit', 1.0): 1,\n",
              " ('cours', 1.0): 18,\n",
              " ('teamposit', 1.0): 1,\n",
              " ('aldub', 1.0): 2,\n",
              " ('☕', 1.0): 3,\n",
              " ('rita', 1.0): 2,\n",
              " ('info', 1.0): 14,\n",
              " (\"we'd\", 1.0): 4,\n",
              " ('way', 1.0): 46,\n",
              " ('boy', 1.0): 21,\n",
              " ('x40', 1.0): 1,\n",
              " ('true', 1.0): 22,\n",
              " ('sethi', 1.0): 2,\n",
              " ('high', 1.0): 7,\n",
              " ('exe', 1.0): 1,\n",
              " ('skeem', 1.0): 1,\n",
              " ('saam', 1.0): 1,\n",
              " ('peopl', 1.0): 49,\n",
              " ('polit', 1.0): 2,\n",
              " ('izzat', 1.0): 1,\n",
              " ('wese', 1.0): 1,\n",
              " ('trust', 1.0): 9,\n",
              " ('khawateen', 1.0): 1,\n",
              " ('k', 1.0): 9,\n",
              " ('sath', 1.0): 2,\n",
              " ('mana', 1.0): 1,\n",
              " ('kar', 1.0): 1,\n",
              " ('deya', 1.0): 1,\n",
              " ('sort', 1.0): 9,\n",
              " ('smart', 1.0): 5,\n",
              " ('hair', 1.0): 12,\n",
              " ('tbh', 1.0): 5,\n",
              " ('jacob', 1.0): 2,\n",
              " ('g', 1.0): 11,\n",
              " ('upgrad', 1.0): 6,\n",
              " ('tee', 1.0): 3,\n",
              " ('famili', 1.0): 19,\n",
              " ('person', 1.0): 19,\n",
              " ('two', 1.0): 22,\n",
              " ('convers', 1.0): 6,\n",
              " ('onlin', 1.0): 7,\n",
              " ('mclaren', 1.0): 1,\n",
              " ('fridayfeel', 1.0): 5,\n",
              " ('tgif', 1.0): 10,\n",
              " ('squar', 1.0): 1,\n",
              " ('enix', 1.0): 1,\n",
              " ('bissmillah', 1.0): 1,\n",
              " ('ya', 1.0): 23,\n",
              " ('allah', 1.0): 3,\n",
              " (\"we'r\", 1.0): 30,\n",
              " ('socent', 1.0): 1,\n",
              " ('startup', 1.0): 3,\n",
              " ('drop', 1.0): 9,\n",
              " ('your', 1.0): 3,\n",
              " ('arnd', 1.0): 1,\n",
              " ('town', 1.0): 5,\n",
              " ('basic', 1.0): 4,\n",
              " ('piss', 1.0): 3,\n",
              " ('cup', 1.0): 4,\n",
              " ('also', 1.0): 36,\n",
              " ('terribl', 1.0): 2,\n",
              " ('complic', 1.0): 1,\n",
              " ('discuss', 1.0): 3,\n",
              " ('snapchat', 1.0): 36,\n",
              " ('lynettelow', 1.0): 1,\n",
              " ('kikmenow', 1.0): 3,\n",
              " ('snapm', 1.0): 2,\n",
              " ('hot', 1.0): 24,\n",
              " ('amazon', 1.0): 1,\n",
              " ('kikmeguy', 1.0): 3,\n",
              " ('defin', 1.0): 2,\n",
              " ('grow', 1.0): 7,\n",
              " ('sport', 1.0): 4,\n",
              " ('rt', 1.0): 12,\n",
              " ('rakyat', 1.0): 1,\n",
              " ('write', 1.0): 13,\n",
              " ('sinc', 1.0): 15,\n",
              " ('mention', 1.0): 24,\n",
              " ('fli', 1.0): 5,\n",
              " ('fish', 1.0): 4,\n",
              " ('promot', 1.0): 5,\n",
              " ('post', 1.0): 21,\n",
              " ('cyber', 1.0): 1,\n",
              " ('ourdaughtersourprid', 1.0): 5,\n",
              " ('mypapamyprid', 1.0): 2,\n",
              " ('papa', 1.0): 2,\n",
              " ('coach', 1.0): 2,\n",
              " ('posit', 1.0): 8,\n",
              " ('kha', 1.0): 1,\n",
              " ('atleast', 1.0): 2,\n",
              " ('x39', 1.0): 1,\n",
              " ('mango', 1.0): 1,\n",
              " (\"lassi'\", 1.0): 1,\n",
              " (\"monty'\", 1.0): 1,\n",
              " ('marvel', 1.0): 2,\n",
              " ('though', 1.0): 19,\n",
              " ('suspect', 1.0): 3,\n",
              " ('meant', 1.0): 3,\n",
              " ('24', 1.0): 4,\n",
              " ('hr', 1.0): 2,\n",
              " ('touch', 1.0): 15,\n",
              " ('kepler', 1.0): 4,\n",
              " ('452b', 1.0): 5,\n",
              " ('chalna', 1.0): 1,\n",
              " ('hai', 1.0): 11,\n",
              " ('thankyou', 1.0): 14,\n",
              " ('hazel', 1.0): 1,\n",
              " ('food', 1.0): 11,\n",
              " ('brooklyn', 1.0): 1,\n",
              " ('pta', 1.0): 2,\n",
              " ('awak', 1.0): 10,\n",
              " ('okayi', 1.0): 2,\n",
              " ('awww', 1.0): 15,\n",
              " ('ha', 1.0): 23,\n",
              " ('doc', 1.0): 1,\n",
              " ('splendid', 1.0): 1,\n",
              " ('spam', 1.0): 1,\n",
              " ('folder', 1.0): 1,\n",
              " ('amount', 1.0): 1,\n",
              " ('nigeria', 1.0): 1,\n",
              " ('claim', 1.0): 1,\n",
              " ('rted', 1.0): 1,\n",
              " ('leg', 1.0): 5,\n",
              " ('hurt', 1.0): 8,\n",
              " ('bad', 1.0): 18,\n",
              " ('mine', 1.0): 14,\n",
              " ('saturday', 1.0): 8,\n",
              " ('thaaank', 1.0): 1,\n",
              " ('puhon', 1.0): 1,\n",
              " ('happinesss', 1.0): 1,\n",
              " ('tnc', 1.0): 1,\n",
              " ('prior', 1.0): 1,\n",
              " ('notif', 1.0): 2,\n",
              " ('probabl', 1.0): 10,\n",
              " ('funni', 1.0): 20,\n",
              " ('2:22', 1.0): 1,\n",
              " ('fat', 1.0): 1,\n",
              " ('co', 1.0): 1,\n",
              " ('ate', 1.0): 4,\n",
              " ('yuna', 1.0): 2,\n",
              " ('tamesid', 1.0): 1,\n",
              " ('´', 1.0): 3,\n",
              " ('googl', 1.0): 6,\n",
              " ('account', 1.0): 19,\n",
              " ('scouser', 1.0): 1,\n",
              " ('everyth', 1.0): 13,\n",
              " ('zoe', 1.0): 2,\n",
              " ('mate', 1.0): 7,\n",
              " ('liter', 1.0): 7,\n",
              " (\"they'r\", 1.0): 12,\n",
              " ('samee', 1.0): 1,\n",
              " ('edgar', 1.0): 1,\n",
              " ('updat', 1.0): 13,\n",
              " ('log', 1.0): 4,\n",
              " ('bring', 1.0): 19,\n",
              " ('abe', 1.0): 1,\n",
              " ('meet', 1.0): 34,\n",
              " ('x38', 1.0): 1,\n",
              " ('sigh', 1.0): 3,\n",
              " ('dreamili', 1.0): 1,\n",
              " ('pout', 1.0): 1,\n",
              " ('eye', 1.0): 14,\n",
              " ('quacketyquack', 1.0): 7,\n",
              " ('happen', 1.0): 16,\n",
              " ('phil', 1.0): 1,\n",
              " ('em', 1.0): 3,\n",
              " ('del', 1.0): 1,\n",
              " ('rodder', 1.0): 1,\n",
              " ('els', 1.0): 10,\n",
              " ('play', 1.0): 46,\n",
              " ('newest', 1.0): 1,\n",
              " ('gamejam', 1.0): 1,\n",
              " ('irish', 1.0): 2,\n",
              " ('literatur', 1.0): 2,\n",
              " ('inaccess', 1.0): 2,\n",
              " (\"kareena'\", 1.0): 2,\n",
              " ('fan', 1.0): 30,\n",
              " ('brain', 1.0): 13,\n",
              " ('dot', 1.0): 11,\n",
              " ('braindot', 1.0): 11,\n",
              " ('fair', 1.0): 6,\n",
              " ('rush', 1.0): 1,\n",
              " ('either', 1.0): 11,\n",
              " ('brandi', 1.0): 1,\n",
              " ('18', 1.0): 5,\n",
              " ('carniv', 1.0): 1,\n",
              " ('men', 1.0): 10,\n",
              " ('put', 1.0): 17,\n",
              " ('mask', 1.0): 3,\n",
              " ('xavier', 1.0): 1,\n",
              " ('forneret', 1.0): 1,\n",
              " ('jennif', 1.0): 1,\n",
              " ('site', 1.0): 9,\n",
              " ('free', 1.0): 38,\n",
              " ('50.000', 1.0): 3,\n",
              " ('8', 1.0): 12,\n",
              " ('ball', 1.0): 7,\n",
              " ('pool', 1.0): 5,\n",
              " ('coin', 1.0): 5,\n",
              " ('edit', 1.0): 7,\n",
              " ('trish', 1.0): 1,\n",
              " ('♥', 1.0): 19,\n",
              " ('grate', 1.0): 5,\n",
              " ('three', 1.0): 10,\n",
              " ('comment', 1.0): 9,\n",
              " ('wakeup', 1.0): 1,\n",
              " ('besid', 1.0): 2,\n",
              " ('dirti', 1.0): 2,\n",
              " ('sex', 1.0): 6,\n",
              " ('lmaooo', 1.0): 1,\n",
              " ('😤', 1.0): 2,\n",
              " ('loui', 1.0): 4,\n",
              " (\"he'\", 1.0): 12,\n",
              " ('throw', 1.0): 3,\n",
              " ('caus', 1.0): 15,\n",
              " ('inspir', 1.0): 7,\n",
              " ('ff', 1.0): 48,\n",
              " ('twoof', 1.0): 3,\n",
              " ('gr8', 1.0): 1,\n",
              " ('wkend', 1.0): 3,\n",
              " ('kind', 1.0): 24,\n",
              " ('exhaust', 1.0): 2,\n",
              " ('word', 1.0): 20,\n",
              " ('cheltenham', 1.0): 1,\n",
              " ('area', 1.0): 4,\n",
              " ('kale', 1.0): 1,\n",
              " ('crisp', 1.0): 1,\n",
              " ('ruin', 1.0): 5,\n",
              " ('x37', 1.0): 1,\n",
              " ('open', 1.0): 12,\n",
              " ('worldwid', 1.0): 2,\n",
              " ('outta', 1.0): 1,\n",
              " ('sfvbeta', 1.0): 1,\n",
              " ('vantast', 1.0): 1,\n",
              " ('xcylin', 1.0): 1,\n",
              " ('bundl', 1.0): 1,\n",
              " ('show', 1.0): 28,\n",
              " ('internet', 1.0): 2,\n",
              " ('price', 1.0): 4,\n",
              " ('realisticli', 1.0): 1,\n",
              " ('pay', 1.0): 8,\n",
              " ('net', 1.0): 1,\n",
              " ('educ', 1.0): 1,\n",
              " ('power', 1.0): 7,\n",
              " ('weapon', 1.0): 1,\n",
              " ('nelson', 1.0): 1,\n",
              " ('mandela', 1.0): 1,\n",
              " ('recent', 1.0): 9,\n",
              " ('j', 1.0): 3,\n",
              " ('chenab', 1.0): 1,\n",
              " ('flow', 1.0): 5,\n",
              " ('pakistan', 1.0): 2,\n",
              " ('incredibleindia', 1.0): 1,\n",
              " ('teenchoic', 1.0): 10,\n",
              " ('choiceinternationalartist', 1.0): 9,\n",
              " ('superjunior', 1.0): 9,\n",
              " ('caught', 1.0): 4,\n",
              " ('first', 1.0): 50,\n",
              " ('salmon', 1.0): 3,\n",
              " ('super-blend', 1.0): 1,\n",
              " ('project', 1.0): 6,\n",
              " ('youth@bipolaruk.org.uk', 1.0): 1,\n",
              " ('awesom', 1.0): 42,\n",
              " ('stream', 1.0): 14,\n",
              " ('artist', 1.0): 2,\n",
              " ('alma', 1.0): 1,\n",
              " ('mater', 1.0): 1,\n",
              " ('highschoolday', 1.0): 1,\n",
              " ('clientvisit', 1.0): 1,\n",
              " ('faith', 1.0): 3,\n",
              " ('christian', 1.0): 1,\n",
              " ('school', 1.0): 10,\n",
              " ('lizaminnelli', 1.0): 1,\n",
              " ('upcom', 1.0): 2,\n",
              " ('uk', 1.0): 4,\n",
              " ('😄', 1.0): 5,\n",
              " ('singl', 1.0): 6,\n",
              " ('hill', 1.0): 4,\n",
              " ('everi', 1.0): 26,\n",
              " ('beat', 1.0): 10,\n",
              " ('wrong', 1.0): 10,\n",
              " ('readi', 1.0): 25,\n",
              " ('natur', 1.0): 1,\n",
              " ('pefumeri', 1.0): 1,\n",
              " ...}"
            ]
          },
          "metadata": {},
          "execution_count": 26
        }
      ]
    },
    {
      "cell_type": "markdown",
      "source": [
        "## Table of word counts"
      ],
      "metadata": {
        "id": "t74TB8DRP7zt"
      }
    },
    {
      "cell_type": "code",
      "source": [
        "# select some words to appear in the report. we will assume that each word is unique (i.e. no duplicates)\n",
        "keys = ['happi', 'merri', 'nice', 'good', 'bad', 'sad', 'mad', 'best', 'pretti',\n",
        "        '❤', ':)', ':(', '😒', '😬', '😄', '😍', '♛',\n",
        "        'song', 'idea', 'power', 'play', 'magnific']\n",
        "\n",
        "# list representing our table of word counts.\n",
        "# each element consist of a sublist with this pattern: [<word>, <positive_count>, <negative_count>]\n",
        "data = []\n",
        "\n",
        "# loop through our selected words\n",
        "for word in keys:\n",
        "\n",
        "    # initialize positive and negative counts\n",
        "    pos = 0\n",
        "    neg = 0\n",
        "\n",
        "    # retrieve number of positive counts\n",
        "    if (word, 1) in freqs:\n",
        "        pos = freqs[(word, 1)]\n",
        "\n",
        "    # retrieve number of negative counts\n",
        "    if (word, 0) in freqs:\n",
        "        neg = freqs[(word, 0)]\n",
        "\n",
        "    # append the word counts to the table\n",
        "    data.append([word, pos, neg])\n",
        "\n",
        "data"
      ],
      "metadata": {
        "colab": {
          "base_uri": "https://localhost:8080/"
        },
        "id": "K4Qk7-WyP2aH",
        "outputId": "e12a29fe-0152-4b34-fb1a-1df3352376c3"
      },
      "execution_count": 27,
      "outputs": [
        {
          "output_type": "execute_result",
          "data": {
            "text/plain": [
              "[['happi', 212, 25],\n",
              " ['merri', 1, 0],\n",
              " ['nice', 99, 19],\n",
              " ['good', 238, 101],\n",
              " ['bad', 18, 73],\n",
              " ['sad', 5, 123],\n",
              " ['mad', 4, 11],\n",
              " ['best', 65, 22],\n",
              " ['pretti', 20, 15],\n",
              " ['❤', 29, 21],\n",
              " [':)', 3691, 2],\n",
              " [':(', 1, 4584],\n",
              " ['😒', 2, 3],\n",
              " ['😬', 0, 2],\n",
              " ['😄', 5, 1],\n",
              " ['😍', 5, 1],\n",
              " ['♛', 0, 210],\n",
              " ['song', 22, 27],\n",
              " ['idea', 27, 10],\n",
              " ['power', 7, 6],\n",
              " ['play', 46, 48],\n",
              " ['magnific', 2, 0]]"
            ]
          },
          "metadata": {},
          "execution_count": 27
        }
      ]
    },
    {
      "cell_type": "code",
      "source": [
        "fig, ax = plt.subplots(figsize = (8, 8))\n",
        "\n",
        "# convert positive raw counts to logarithmic scale. we add 1 to avoid log(0)\n",
        "x = np.log([x[1] + 1 for x in data])\n",
        "\n",
        "# do the same for the negative counts\n",
        "y = np.log([x[2] + 1 for x in data])\n",
        "\n",
        "# Plot a dot for each pair of words\n",
        "ax.scatter(x, y)\n",
        "\n",
        "# assign axis labels\n",
        "plt.xlabel(\"Log Positive count\")\n",
        "plt.ylabel(\"Log Negative count\")\n",
        "\n",
        "# Add the word as the label at the same position as you added the points just before\n",
        "for i in range(0, len(data)):\n",
        "    ax.annotate(data[i][0], (x[i], y[i]), fontsize=12)\n",
        "\n",
        "ax.plot([0, 9], [0, 9], color = 'red') # Plot the red line that divides the 2 areas.\n",
        "plt.show()"
      ],
      "metadata": {
        "colab": {
          "base_uri": "https://localhost:8080/",
          "height": 732
        },
        "id": "TpZZxYqOP2eX",
        "outputId": "2e63488c-d9c3-4672-8e04-eccc124933c6"
      },
      "execution_count": 28,
      "outputs": [
        {
          "output_type": "stream",
          "name": "stderr",
          "text": [
            "/usr/local/lib/python3.10/dist-packages/IPython/core/pylabtools.py:151: UserWarning: Glyph 128556 (\\N{GRIMACING FACE}) missing from current font.\n",
            "  fig.canvas.print_figure(bytes_io, **kw)\n"
          ]
        },
        {
          "output_type": "display_data",
          "data": {
            "text/plain": [
              "<Figure size 800x800 with 1 Axes>"
            ],
            "image/png": "[encoded data removed]"
          },
          "metadata": {}
        }
      ]
    },
    {
      "cell_type": "markdown",
      "source": [
        "This chart is straightforward to interpret. It shows that emoticons `:)` and `:(` are very important for sentiment analysis. Thus, we should not let preprocessing steps get rid of these symbols!\n",
        "\n",
        "Furthermore, what is the meaning of the crown symbol? It seems to be very negative!"
      ],
      "metadata": {
        "id": "2EaQL112QHPP"
      }
    },
    {
      "cell_type": "markdown",
      "source": [
        "#Logistic Regression classification\n",
        "\n",
        "logistic regression. Concretely, you will be implementing logistic regression"
      ],
      "metadata": {
        "id": "msvZlXHVu0qO"
      }
    },
    {
      "cell_type": "code",
      "source": [
        "# select the set of positive and negative tweets\n",
        "all_positive_tweets = twitter_samples.strings('positive_tweets.json')\n",
        "all_negative_tweets = twitter_samples.strings('negative_tweets.json')\n",
        "# Train test split: 20% will be in the test set, and 80% in the training set.\n",
        "# split the data into two pieces, one for training and one for testing (validation set)\n",
        "test_pos = all_positive_tweets[4000:]\n",
        "train_pos = all_positive_tweets[:4000]\n",
        "test_neg = all_negative_tweets[4000:]\n",
        "train_neg = all_negative_tweets[:4000]\n",
        "\n",
        "train_x = train_pos + train_neg\n",
        "test_x = test_pos + test_neg"
      ],
      "metadata": {
        "id": "K6gEZ9LPQ9v1"
      },
      "execution_count": 29,
      "outputs": []
    },
    {
      "cell_type": "code",
      "source": [
        "# combine positive and negative labels\n",
        "train_y = np.append(np.ones((len(train_pos), 1)), np.zeros((len(train_neg), 1)), axis=0)\n",
        "test_y = np.append(np.ones((len(test_pos), 1)), np.zeros((len(test_neg), 1)), axis=0)"
      ],
      "metadata": {
        "id": "0XeYiSXYQky3"
      },
      "execution_count": 30,
      "outputs": []
    },
    {
      "cell_type": "code",
      "source": [
        "# Print the shape train and test sets\n",
        "print(\"train_y.shape = \" + str(train_y.shape))\n",
        "print(\"test_y.shape = \" + str(test_y.shape))"
      ],
      "metadata": {
        "id": "Xkf2cbfaQk2F"
      },
      "execution_count": 28,
      "outputs": []
    },
    {
      "cell_type": "markdown",
      "source": [
        "* Create the frequency dictionary using the imported build_freqs function.  \n",
        "    * We highly recommend that you open utils.py and read the build_freqs function to understand what it is doing.\n",
        "    * To view the file directory, go to the menu and click File->Open.\n",
        "\n",
        "```Python\n",
        "    for y,tweet in zip(ys, tweets):\n",
        "        for word in process_tweet(tweet):\n",
        "            pair = (word, y)\n",
        "            if pair in freqs:\n",
        "                freqs[pair] += 1\n",
        "            else:\n",
        "                freqs[pair] = 1\n",
        "```\n",
        "* Notice how the outer for loop goes through each tweet, and the inner for loop steps through each word in a tweet.\n",
        "* The 'freqs' dictionary is the frequency dictionary that's being built.\n",
        "* The key is the tuple (word, label), such as (\"happy\",1) or (\"happy\",0).  The value stored for each key is the count of how many times the word \"happy\" was associated with a positive label, or how many times \"happy\" was associated with a negative label."
      ],
      "metadata": {
        "id": "IODjkMSOvWWX"
      }
    },
    {
      "cell_type": "markdown",
      "source": [],
      "metadata": {
        "id": "TtI0JmCMxqq3"
      }
    },
    {
      "cell_type": "code",
      "source": [
        "# create frequency dictionary\n",
        "freqs = build_freqs(train_x, train_y)\n",
        "\n",
        "# check the output\n",
        "print(\"type(freqs) = \" + str(type(freqs)))\n",
        "print(\"len(freqs) = \" + str(len(freqs.keys())))"
      ],
      "metadata": {
        "colab": {
          "base_uri": "https://localhost:8080/"
        },
        "id": "B5-lhVQ3Qk5Z",
        "outputId": "efced8b7-d07d-4336-d4a4-3d431b039396"
      },
      "execution_count": 31,
      "outputs": [
        {
          "output_type": "stream",
          "name": "stdout",
          "text": [
            "type(freqs) = <class 'dict'>\n",
            "len(freqs) = 11427\n"
          ]
        }
      ]
    },
    {
      "cell_type": "markdown",
      "source": [
        "### Process Tweet\n",
        "The given function 'process_tweet' tokenizes the tweet into individual words, removes stop words and applies stemming."
      ],
      "metadata": {
        "id": "77gbsdmSvecf"
      }
    },
    {
      "cell_type": "code",
      "source": [
        "# test the function below\n",
        "print('This is an example of a positive tweet: \\n', train_x[0])\n",
        "print('\\nThis is an example of the processed version of the tweet: \\n', process_tweet(train_x[0]))"
      ],
      "metadata": {
        "colab": {
          "base_uri": "https://localhost:8080/"
        },
        "id": "WTTjCwJrve2G",
        "outputId": "90a20d15-d8eb-4564-88c5-62ea5dfd23cf"
      },
      "execution_count": 33,
      "outputs": [
        {
          "output_type": "stream",
          "name": "stdout",
          "text": [
            "This is an example of a positive tweet: \n",
            " #FollowFriday @France_Inte @PKuchly57 @Milipol_Paris for being top engaged members in my community this week :)\n",
            "\n",
            "This is an example of the processed version of the tweet: \n",
            " ['followfriday', 'top', 'engag', 'member', 'commun', 'week', ':)']\n"
          ]
        }
      ]
    },
    {
      "cell_type": "markdown",
      "source": [
        "<a name='1'></a>\n",
        "## 1 - Logistic Regression\n",
        "\n",
        "<a name='1-1'></a>\n",
        "### 1.1 - Sigmoid\n",
        "You will learn to use logistic regression for text classification.\n",
        "* The sigmoid function is defined as:\n",
        "\n",
        "$$ h(z) = \\frac{1}{1+\\exp^{-z}} \\tag{1}$$\n",
        "\n",
        "It maps the input 'z' to a value that ranges between 0 and 1, and so it can be treated as a probability.\n",
        "\n",
        "<div style=\"width:image width px; font-size:100%; text-align:center;\"><img src='./images/sigmoid_plot.jpg' alt=\"alternate text\" width=\"width\" height=\"height\" style=\"width:300px;height:200px;\" /> Figure 1 </div>"
      ],
      "metadata": {
        "id": "aF9vs435vodo"
      }
    },
    {
      "cell_type": "code",
      "source": [
        "# define sigmoid function\n",
        "def sigmoid(z):\n",
        "    '''\n",
        "    Input:\n",
        "        z: is the input (can be a scalar or an array)\n",
        "    Output:\n",
        "        h: the sigmoid of z\n",
        "    '''\n",
        "\n",
        "    ### START CODE HERE ###\n",
        "    # calculate the sigmoid of z\n",
        "    h = 1 / (1 + np.exp(-z))\n",
        "    ### END CODE HERE ###\n",
        "\n",
        "    return h"
      ],
      "metadata": {
        "id": "DpCbjR93ve8G"
      },
      "execution_count": 34,
      "outputs": []
    },
    {
      "cell_type": "markdown",
      "source": [
        "Let me break down the structure of the code:\n",
        "\n",
        "**test_sigmoid function**: Tests the sigmoid function with different input values and checks if the output matches the expected values.\n",
        "\n",
        "**test_gradientDescent function**: Tests the gradient descent function for logistic regression with different input values and checks if the output loss and weights match the expected values.\n",
        "\n",
        "**test_extract_features function**: Tests the feature extraction function with different input tweets and checks if the output feature vectors match the expected values.\n",
        "\n",
        "**test_predict_tweet function**: Tests the tweet prediction function with different input tweets, frequency dictionaries, and theta values, and checks if the output predictions match the expected values.\n",
        "\n",
        "**unittest_test_logistic_regression function**: Tests the overall logistic regression model with different sets of tweets, frequency dictionaries, and theta values, and checks if the accuracy matches the expected values.\n",
        "\n",
        "Each test case includes a set of input parameters, an expected output, and assertions to compare the actual output with the expected output. If the assertions fail, error messages are printed to help identify the issue."
      ],
      "metadata": {
        "id": "5OvKg0DMxrtu"
      }
    },
    {
      "cell_type": "code",
      "source": [
        "# Testing your function\n",
        "if (sigmoid(0) == 0.5):\n",
        "    print('SUCCESS!')\n",
        "else:\n",
        "    print('Oops!')\n",
        "\n",
        "if (sigmoid(4.92) == 0.9927537604041685):\n",
        "    print('CORRECT!')\n",
        "else:\n",
        "    print('Oops again!')"
      ],
      "metadata": {
        "colab": {
          "base_uri": "https://localhost:8080/"
        },
        "id": "iOR8OnCYve_v",
        "outputId": "0331a269-9066-42d4-ec82-bff9892c69b1"
      },
      "execution_count": 35,
      "outputs": [
        {
          "output_type": "stream",
          "name": "stdout",
          "text": [
            "SUCCESS!\n",
            "CORRECT!\n"
          ]
        }
      ]
    },
    {
      "cell_type": "code",
      "source": [
        "# FROM w1_unittest.py\n",
        "\n",
        "def test_sigmoid(target):\n",
        "    successful_cases = 0\n",
        "    failed_cases = []\n",
        "\n",
        "    test_cases = [\n",
        "        {\"name\": \"default_check\", \"input\": {\"z\": 0}, \"expected\": 0.5},\n",
        "        {\n",
        "            \"name\": \"positive_check\",\n",
        "            \"input\": {\"z\": 4.92},\n",
        "            \"expected\": 0.9927537604041685,\n",
        "        },\n",
        "        {\"name\": \"negative_check\", \"input\": {\"z\": -1}, \"expected\": 0.2689414213699951},\n",
        "        {\n",
        "            \"name\": \"larger_neg_check\",\n",
        "            \"input\": {\"z\": -20},\n",
        "            \"expected\": 2.0611536181902037e-09,\n",
        "        },\n",
        "    ]\n",
        "\n",
        "    for test_case in test_cases:\n",
        "        result = target(**test_case[\"input\"])\n",
        "\n",
        "        try:\n",
        "            assert np.isclose(result, test_case[\"expected\"])\n",
        "            successful_cases += 1\n",
        "        except:\n",
        "            failed_cases.append(\n",
        "                {\n",
        "                    \"name\": test_case[\"name\"],\n",
        "                    \"expected\": test_case[\"expected\"],\n",
        "                    \"got\": result,\n",
        "                }\n",
        "            )\n",
        "            print(\n",
        "                f\"Wrong output from sigmoid function. \\n\\tExpected: {failed_cases[-1].get('expected')}.\\n\\tGot: {failed_cases[-1].get('got')}.\"\n",
        "            )\n",
        "\n",
        "    if len(failed_cases) == 0:\n",
        "        print(\"\\033[92m All tests passed\")\n",
        "    else:\n",
        "        print(\"\\033[92m\", successful_cases, \" Tests passed\")\n",
        "        print(\"\\033[91m\", len(failed_cases), \" Tests failed\")\n",
        "\n",
        "    # return failed_cases, len(failed_cases) + successful_cases\n",
        "\n",
        "\n",
        "def test_gradientDescent(target):\n",
        "    successful_cases = 0\n",
        "    failed_cases = []\n",
        "\n",
        "    test_cases = [\n",
        "        {\n",
        "            \"name\": \"default_check\",\n",
        "            \"input\": {\n",
        "                \"random_seed\": 1,\n",
        "                \"input_dict\": {\n",
        "                    \"x\": np.array(\n",
        "                        [\n",
        "                            [1.00000000e00, 8.34044009e02, 1.44064899e03],\n",
        "                            [1.00000000e00, 2.28749635e-01, 6.04665145e02],\n",
        "                            [1.00000000e00, 2.93511782e02, 1.84677190e02],\n",
        "                            [1.00000000e00, 3.72520423e02, 6.91121454e02],\n",
        "                            [1.00000000e00, 7.93534948e02, 1.07763347e03],\n",
        "                            [1.00000000e00, 8.38389029e02, 1.37043900e03],\n",
        "                            [1.00000000e00, 4.08904499e02, 1.75623487e03],\n",
        "                            [1.00000000e00, 5.47751864e01, 1.34093502e03],\n",
        "                            [1.00000000e00, 8.34609605e02, 1.11737966e03],\n",
        "                            [1.00000000e00, 2.80773877e02, 3.96202978e02],\n",
        "                        ]\n",
        "                    ),\n",
        "                    \"y\": np.array(\n",
        "                        [\n",
        "                            [1.0],\n",
        "                            [1.0],\n",
        "                            [0.0],\n",
        "                            [1.0],\n",
        "                            [1.0],\n",
        "                            [1.0],\n",
        "                            [0.0],\n",
        "                            [0.0],\n",
        "                            [0.0],\n",
        "                            [1.0],\n",
        "                        ]\n",
        "                    ),\n",
        "                    \"theta\": np.zeros((3, 1)),\n",
        "                    \"alpha\": 1e-8,\n",
        "                    \"num_iters\": 700,\n",
        "                },\n",
        "            },\n",
        "            \"expected\": {\n",
        "                \"J\": 0.6709497038162118,\n",
        "                \"theta\": np.array(\n",
        "                    [[4.10713435e-07], [3.56584699e-04], [7.30888526e-05]]\n",
        "                ),\n",
        "            },\n",
        "        },\n",
        "        {\n",
        "            \"name\": \"larger_check\",\n",
        "            \"input\": {\n",
        "                \"random_seed\": 2,\n",
        "                \"input_dict\": {\n",
        "                    \"x\": np.array(\n",
        "                        [\n",
        "                            [1.0, 435.99490214, 25.92623183, 549.66247788],\n",
        "                            [1.0, 435.32239262, 420.36780209, 330.334821],\n",
        "                            [1.0, 204.64863404, 619.27096635, 299.65467367],\n",
        "                            [1.0, 266.8272751, 621.13383277, 529.14209428],\n",
        "                            [1.0, 134.57994534, 513.57812127, 184.43986565],\n",
        "                            [1.0, 785.33514782, 853.97529264, 494.23683738],\n",
        "                            [1.0, 846.56148536, 79.64547701, 505.24609012],\n",
        "                            [1.0, 65.28650439, 428.1223276, 96.53091566],\n",
        "                            [1.0, 127.1599717, 596.74530898, 226.0120006],\n",
        "                            [1.0, 106.94568431, 220.30620707, 349.826285],\n",
        "                            [1.0, 467.78748458, 201.74322626, 640.40672521],\n",
        "                            [1.0, 483.06983555, 505.23672002, 386.89265112],\n",
        "                            [1.0, 793.63745444, 580.00417888, 162.2985985],\n",
        "                            [1.0, 700.75234661, 964.55108009, 500.00836117],\n",
        "                            [1.0, 889.52006395, 341.61365267, 567.14412763],\n",
        "                            [1.0, 427.5459633, 436.74726303, 776.559185],\n",
        "                            [1.0, 535.6041735, 953.74222694, 544.20816015],\n",
        "                            [1.0, 82.09492228, 366.34240168, 850.850504],\n",
        "                            [1.0, 406.27504305, 27.20236589, 247.177239],\n",
        "                            [1.0, 67.14437074, 993.85201142, 970.58031338],\n",
        "                        ]\n",
        "                    ),\n",
        "                    \"y\": np.array(\n",
        "                        [\n",
        "                            [1.0],\n",
        "                            [1.0],\n",
        "                            [1.0],\n",
        "                            [0.0],\n",
        "                            [0.0],\n",
        "                            [1.0],\n",
        "                            [0.0],\n",
        "                            [0.0],\n",
        "                            [1.0],\n",
        "                            [0.0],\n",
        "                            [1.0],\n",
        "                            [0.0],\n",
        "                            [0.0],\n",
        "                            [0.0],\n",
        "                            [1.0],\n",
        "                            [1.0],\n",
        "                            [0.0],\n",
        "                            [0.0],\n",
        "                            [1.0],\n",
        "                            [0.0],\n",
        "                        ]\n",
        "                    ),\n",
        "                    \"theta\": np.zeros((4, 1)),\n",
        "                    \"alpha\": 1e-4,\n",
        "                    \"num_iters\": 30,\n",
        "                },\n",
        "            },\n",
        "            \"expected\": {\n",
        "                \"J\": 6.5044107216556135,\n",
        "                \"theta\": np.array(\n",
        "                    [\n",
        "                        [9.45211976e-05],\n",
        "                        [2.40577958e-02],\n",
        "                        [-1.77876847e-02],\n",
        "                        [1.35674845e-02],\n",
        "                    ]\n",
        "                ),\n",
        "            },\n",
        "        },\n",
        "    ]\n",
        "\n",
        "    for test_case in test_cases:\n",
        "        # Setting the random seed for reproducibility\n",
        "        result_J, result_theta = target(**test_case[\"input\"][\"input_dict\"])\n",
        "\n",
        "        try:\n",
        "            assert isinstance(result_J, float)\n",
        "            successful_cases += 1\n",
        "        except:\n",
        "            failed_cases.append(\n",
        "                {\"name\": test_case[\"name\"], \"expected\": float, \"got\": type(result_J),}\n",
        "            )\n",
        "            print(\n",
        "                f\"Wrong output type for loss function. \\n\\tExpected: {failed_cases[-1].get('expected')}.\\n\\tGot: {failed_cases[-1].get('got')}.\"\n",
        "            )\n",
        "\n",
        "        try:\n",
        "            assert np.isclose(result_J, test_case[\"expected\"][\"J\"])\n",
        "            successful_cases += 1\n",
        "        except:\n",
        "            failed_cases.append(\n",
        "                {\n",
        "                    \"name\": test_case[\"name\"],\n",
        "                    \"expected\": test_case[\"expected\"][\"J\"],\n",
        "                    \"got\": result_J,\n",
        "                }\n",
        "            )\n",
        "            print(\n",
        "                f\"Wrong output for the loss function. Check how you are implementing the matrix multiplications. \\n\\tExpected: {failed_cases[-1].get('expected')}.\\n\\tGot: {failed_cases[-1].get('got')}.\"\n",
        "            )\n",
        "\n",
        "        try:\n",
        "            assert result_theta.shape == test_case[\"input\"][\"input_dict\"][\"theta\"].shape\n",
        "            successful_cases += 1\n",
        "        except:\n",
        "            failed_cases.append(\n",
        "                {\n",
        "                    \"name\": test_case[\"name\"],\n",
        "                    \"expected\": test_case[\"input\"][\"input_dict\"][\"theta\"].shape,\n",
        "                    \"got\": result_theta.shape,\n",
        "                }\n",
        "            )\n",
        "            print(\n",
        "                f\"Wrong shape for weights matrix theta. \\n\\tExpected: {failed_cases[-1].get('expected')}.\\n\\tGot: {failed_cases[-1].get('got')}.\"\n",
        "            )\n",
        "\n",
        "        try:\n",
        "            assert np.allclose(\n",
        "                np.squeeze(result_theta), np.squeeze(test_case[\"expected\"][\"theta\"]),\n",
        "            )\n",
        "            successful_cases += 1\n",
        "        except:\n",
        "            failed_cases.append(\n",
        "                {\n",
        "                    \"name\": test_case[\"name\"],\n",
        "                    \"expected\": test_case[\"expected\"][\"theta\"],\n",
        "                    \"got\": result_theta,\n",
        "                }\n",
        "            )\n",
        "            print(\n",
        "                f\"Wrong values for weight's matrix theta. Check how you are updating the matrix of weights. \\n\\tExpected: {failed_cases[-1].get('expected')}.\\n\\tGot: {failed_cases[-1].get('got')}.\"\n",
        "            )\n",
        "\n",
        "    if len(failed_cases) == 0:\n",
        "        print(\"\\033[92m All tests passed\")\n",
        "    else:\n",
        "        print(\"\\033[92m\", successful_cases, \" Tests passed\")\n",
        "        print(\"\\033[91m\", len(failed_cases), \" Tests failed\")\n",
        "\n",
        "\n",
        "\n",
        "# +\n",
        "def test_extract_features(target, freqs):\n",
        "    successful_cases = 0\n",
        "    failed_cases = []\n",
        "\n",
        "    test_cases = [\n",
        "        {\n",
        "            \"name\": \"default_check\",\n",
        "            \"input\": {\n",
        "                \"tweet\": \"#FollowFriday @France_Inte @PKuchly57 @Milipol_Paris for being top engaged members in my community this week :)\",\n",
        "                \"freqs\": freqs,\n",
        "            },\n",
        "            \"expected\": np.array(\n",
        "                [[1.00e00, 3.133e03, 6.10e01]]\n",
        "            ),\n",
        "        },\n",
        "        {\n",
        "            \"name\": \"unk_words_check\",\n",
        "            \"input\": {\"tweet\": \"blorb bleeeeb bloooob\", \"freqs\": freqs},\n",
        "            \"expected\": np.array([[1.0, 0.0, 0.0]]),\n",
        "        },\n",
        "        {\n",
        "            \"name\": \"good_words_check\",\n",
        "            \"input\": {\"tweet\": \"Hello world! All's good!\", \"freqs\": freqs},\n",
        "            \"expected\": np.array([[1.0, 263.0, 106.0]]),\n",
        "        },\n",
        "        {\n",
        "            \"name\": \"bad_words_check\",\n",
        "            \"input\": {\"tweet\": \"It is so sad!\", \"freqs\": freqs},\n",
        "            \"expected\": np.array([[1.0, 5.0, 100.0]]),\n",
        "        },\n",
        "    ]\n",
        "\n",
        "    for test_case in test_cases:\n",
        "        result = target(**test_case[\"input\"])\n",
        "\n",
        "        try:\n",
        "            assert result.shape == test_case[\"expected\"].shape\n",
        "            successful_cases += 1\n",
        "        except:\n",
        "            failed_cases.append(\n",
        "                {\n",
        "                    \"name\": test_case[\"name\"],\n",
        "                    \"expected\": test_case[\"expected\"].shape,\n",
        "                    \"got\": result.shape,\n",
        "                }\n",
        "            )\n",
        "            print(\n",
        "                f\"Wrong output shape. \\n\\tExpected: {failed_cases[-1].get('expected')}.\\n\\tGot: {failed_cases[-1].get('got')}.\"\n",
        "            )\n",
        "\n",
        "        try:\n",
        "            assert np.allclose(result, test_case[\"expected\"])\n",
        "            successful_cases += 1\n",
        "        except:\n",
        "            failed_cases.append(\n",
        "                {\n",
        "                    \"name\": test_case[\"name\"],\n",
        "                    \"expected\": test_case[\"expected\"],\n",
        "                    \"got\": result,\n",
        "                }\n",
        "            )\n",
        "            print(\n",
        "                f\"Wrong output values. Check how you are computing the positive or negative word count. \\n\\tExpected: {failed_cases[-1].get('expected')}.\\n\\tGot: {failed_cases[-1].get('got')}.\"\n",
        "            )\n",
        "\n",
        "    if len(failed_cases) == 0:\n",
        "        print(\"\\033[92m All tests passed\")\n",
        "    else:\n",
        "        print(\"\\033[92m\", successful_cases, \" Tests passed\")\n",
        "        print(\"\\033[91m\", len(failed_cases), \" Tests failed\")\n",
        "\n",
        "\n",
        "# -\n",
        "\n",
        "def test_predict_tweet(target, freqs, theta):\n",
        "    successful_cases = 0\n",
        "    failed_cases = []\n",
        "\n",
        "    test_cases = [\n",
        "        {\n",
        "            \"name\": \"default_check1\",\n",
        "            \"input\": {\"tweet\": \"I am happy\", \"freqs\": freqs, \"theta\": theta},\n",
        "            \"expected\": np.array([[0.5192746]]),\n",
        "        },\n",
        "        {\n",
        "            \"name\": \"default_check2\",\n",
        "            \"input\": {\"tweet\": \"I am bad\", \"freqs\": freqs, \"theta\": theta},\n",
        "            \"expected\": np.array([[0.49434685]]),\n",
        "        },\n",
        "        {\n",
        "            \"name\": \"default_check3\",\n",
        "            \"input\": {\n",
        "                \"tweet\": \"this movie should have been great\",\n",
        "                \"freqs\": freqs,\n",
        "                \"theta\": theta,\n",
        "            },\n",
        "            \"expected\": np.array([[0.5159792]]),\n",
        "        },\n",
        "        {\n",
        "            \"name\": \"default_check5\",\n",
        "            \"input\": {\"tweet\": \"It is a good day\", \"freqs\": freqs, \"theta\": theta,},\n",
        "            \"expected\": np.array([[0.52320595]]),\n",
        "        },\n",
        "        {\n",
        "            \"name\": \"default_check6\",\n",
        "            \"input\": {\"tweet\": \"It is a bad bad day\", \"freqs\": freqs, \"theta\": theta,},\n",
        "            \"expected\": np.array([[0.49780224]]),\n",
        "        },\n",
        "        {\n",
        "            \"name\": \"default_check7\",\n",
        "            \"input\": {\n",
        "                \"tweet\": \"It is a good day\",\n",
        "                \"freqs\": freqs,\n",
        "                \"theta\": np.array([[5.0000e-04], [-3.4e-02], [3.2e-02]]),\n",
        "            },\n",
        "            \"expected\": np.array([[0.00147813]]),\n",
        "        },\n",
        "        {\n",
        "            \"name\": \"default_check8\",\n",
        "            \"input\": {\n",
        "                \"tweet\": \"It is a bad bad day\",\n",
        "                \"freqs\": freqs,\n",
        "                \"theta\": np.array([[5.0000e-04], [-3.4e-02], [3.2e-02]]),\n",
        "            },\n",
        "            \"expected\": np.array([[0.45673348]]),\n",
        "        },\n",
        "        {\n",
        "            \"name\": \"default_check9\",\n",
        "            \"input\": {\n",
        "                \"tweet\": \"this movie should have been great\",\n",
        "                \"freqs\": freqs,\n",
        "                \"theta\": np.array([[5.0000e-04], [-3.4e-02], [3.2e-02]]),\n",
        "            },\n",
        "            \"expected\": np.array([[0.01561938]]),\n",
        "        },\n",
        "    ]\n",
        "\n",
        "    for test_case in test_cases:\n",
        "        result = target(**test_case[\"input\"])\n",
        "\n",
        "        try:\n",
        "            assert result.shape == test_case[\"expected\"].shape\n",
        "            successful_cases += 1\n",
        "        except:\n",
        "            failed_cases.append(\n",
        "                {\n",
        "                    \"name\": test_case[\"name\"],\n",
        "                    \"expected\": test_case[\"expected\"].shape,\n",
        "                    \"got\": result.shape,\n",
        "                }\n",
        "            )\n",
        "            print(\n",
        "                f\"Wrong output shape. \\n\\tExpected: {failed_cases[-1].get('expected')}.\\n\\tGot: {failed_cases[-1].get('got')}.\"\n",
        "            )\n",
        "\n",
        "        try:\n",
        "            assert np.allclose(result, test_case[\"expected\"])\n",
        "            successful_cases += 1\n",
        "        except:\n",
        "            failed_cases.append(\n",
        "                {\n",
        "                    \"name\": test_case[\"name\"],\n",
        "                    \"expected\": test_case[\"expected\"],\n",
        "                    \"got\": result,\n",
        "                }\n",
        "            )\n",
        "            print(\n",
        "                f\"Wrong predicted values. \\n\\tExpected: {failed_cases[-1].get('expected')}.\\n\\tGot: {failed_cases[-1].get('got')}.\"\n",
        "            )\n",
        "\n",
        "    if len(failed_cases) == 0:\n",
        "        print(\"\\033[92m All tests passed\")\n",
        "    else:\n",
        "        print(\"\\033[92m\", successful_cases, \" Tests passed\")\n",
        "        print(\"\\033[91m\", len(failed_cases), \" Tests failed\")\n",
        "\n",
        "\n",
        "\n",
        "def unittest_test_logistic_regression(target, freqs, theta):\n",
        "    successful_cases = 0\n",
        "    failed_cases = []\n",
        "\n",
        "    test_cases = [\n",
        "        {\n",
        "            \"name\": \"default_check1\",\n",
        "            \"input\": {\n",
        "                \"test_x\": [\n",
        "                    \"Bro:U wan cut hair anot,ur hair long Liao bo\\nMe:since ord liao,take it easy lor treat as save $ leave it longer :)\\nBro:LOL Sibei xialan\",\n",
        "                    \"@heyclaireee is back! thnx God!!! i'm so happy :)\",\n",
        "                    \"@BBCRadio3 thought it was my ears which were malfunctioning, thank goodness you cleared that one up with an apology :-)\",\n",
        "                    \"@HumayAG 'Stuck in the centre right with you. Clowns to the right, jokers to the left...' :) @orgasticpotency @ahmedshaheed @AhmedSaeedGahaa\",\n",
        "                    \"Happy Friday :-) http://t.co/iymPIlWXFY\",\n",
        "                    \"I wanna change my avi but uSanele :(\",\n",
        "                    \"MY PUPPY BROKE HER FOOT :(\",\n",
        "                    \"where's all the jaebum baby pictures :((\",\n",
        "                    \"But but Mr Ahmad Maslan cooks too :( https://t.co/ArCiD31Zv6\",\n",
        "                    \"@eawoman As a Hull supporter I am expecting a misserable few weeks :-(\",\n",
        "                ],\n",
        "                \"test_y\": np.array(\n",
        "                    [\n",
        "                        [1.0],\n",
        "                        [1.0],\n",
        "                        [1.0],\n",
        "                        [1.0],\n",
        "                        [1.0],\n",
        "                        [0.0],\n",
        "                        [0.0],\n",
        "                        [0.0],\n",
        "                        [0.0],\n",
        "                        [0.0],\n",
        "                    ]\n",
        "                ),\n",
        "                \"freqs\": freqs,\n",
        "                \"theta\": theta,\n",
        "            },\n",
        "            \"expected\": 1.0,\n",
        "        },\n",
        "        {\n",
        "            \"name\": \"default_check1\",\n",
        "            \"input\": {\n",
        "                \"test_x\": [\n",
        "                    \"Bro:U wan cut hair anot,ur hair long Liao bo\\nMe:since ord liao,take it easy lor treat as save $ leave it longer :)\\nBro:LOL Sibei xialan\",\n",
        "                    \"@heyclaireee is back! thnx God!!! i'm so happy :)\",\n",
        "                    \"@BBCRadio3 thought it was my ears which were malfunctioning, thank goodness you cleared that one up with an apology :-)\",\n",
        "                    \"@HumayAG 'Stuck in the centre right with you. Clowns to the right, jokers to the left...' :) @orgasticpotency @ahmedshaheed @AhmedSaeedGahaa\",\n",
        "                    \"Happy Friday :-) http://t.co/iymPIlWXFY\",\n",
        "                    \"I wanna change my avi but uSanele :(\",\n",
        "                    \"MY PUPPY BROKE HER FOOT :(\",\n",
        "                    \"where's all the jaebum baby pictures :((\",\n",
        "                    \"But but Mr Ahmad Maslan cooks too :( https://t.co/ArCiD31Zv6\",\n",
        "                    \"@eawoman As a Hull supporter I am expecting a misserable few weeks :-(\",\n",
        "                ],\n",
        "                \"test_y\": np.array(\n",
        "                    [\n",
        "                        [1.0],\n",
        "                        [1.0],\n",
        "                        [1.0],\n",
        "                        [1.0],\n",
        "                        [1.0],\n",
        "                        [0.0],\n",
        "                        [0.0],\n",
        "                        [0.0],\n",
        "                        [0.0],\n",
        "                        [0.0],\n",
        "                    ]\n",
        "                ),\n",
        "                \"freqs\": freqs,\n",
        "                \"theta\": np.array([[5.0000e-04], [-3.4e-02], [3.2e-02]]),\n",
        "            },\n",
        "            \"expected\": 0.0,\n",
        "        },\n",
        "    ]\n",
        "\n",
        "    for test_case in test_cases:\n",
        "        result = target(**test_case[\"input\"])\n",
        "\n",
        "        try:\n",
        "            assert isinstance(result, np.float64)\n",
        "            successful_cases += 1\n",
        "        except:\n",
        "            failed_cases.append(\n",
        "                {\n",
        "                    \"name\": test_case[\"name\"],\n",
        "                    \"expected\": np.float64,\n",
        "                    \"got\": type(result),\n",
        "                }\n",
        "            )\n",
        "            print(\n",
        "                f\"Wrong output type. \\n\\tExpected: {failed_cases[-1].get('expected')}.\\n\\tGot: {failed_cases[-1].get('got')}.\"\n",
        "            )\n",
        "\n",
        "        try:\n",
        "            assert np.isclose(result, test_case[\"expected\"])\n",
        "            successful_cases += 1\n",
        "        except:\n",
        "            failed_cases.append(\n",
        "                {\n",
        "                    \"name\": test_case[\"name\"],\n",
        "                    \"expected\": test_case[\"expected\"],\n",
        "                    \"got\": result,\n",
        "                }\n",
        "            )\n",
        "            print(\n",
        "                f\"Wrong accuracy value. \\n\\tExpected: {failed_cases[-1].get('expected')}.\\n\\tGot: {failed_cases[-1].get('got')}.\"\n",
        "            )\n",
        "\n",
        "    if len(failed_cases) == 0:\n",
        "        print(\"\\033[92m All tests passed\")\n",
        "    else:\n",
        "        print(\"\\033[92m\", successful_cases, \" Tests passed\")\n",
        "        print(\"\\033[91m\", len(failed_cases), \" Tests failed\")\n",
        "\n"
      ],
      "metadata": {
        "id": "_feQVR2yv7-4"
      },
      "execution_count": 45,
      "outputs": []
    },
    {
      "cell_type": "code",
      "source": [
        "# Test your function\n",
        "from os import getcwd\n",
        "import w1_unittest\n",
        "w1_unittest.test_sigmoid(sigmoid)"
      ],
      "metadata": {
        "colab": {
          "base_uri": "https://localhost:8080/"
        },
        "id": "Qc5u4RXSvfDF",
        "outputId": "8d7ec791-fe91-424b-fa41-3c69d16eb717"
      },
      "execution_count": 46,
      "outputs": [
        {
          "output_type": "stream",
          "name": "stdout",
          "text": [
            "\u001b[92m All tests passed\n"
          ]
        }
      ]
    },
    {
      "cell_type": "markdown",
      "source": [
        "#### Logistic Regression: Regression and a Sigmoid\n",
        "\n",
        "Logistic regression takes a regular linear regression, and applies a sigmoid to the output of the linear regression.\n",
        "\n",
        "Regression:\n",
        "$$z = \\theta_0 x_0 + \\theta_1 x_1 + \\theta_2 x_2 + ... \\theta_N x_N$$\n",
        "Note that the $\\theta$ values are \"weights\". If you took the deep learning specialization, we referred to the weights with the 'w' vector.  In this course, we're using a different variable $\\theta$ to refer to the weights.\n",
        "\n",
        "Logistic regression\n",
        "$$ h(z) = \\frac{1}{1+\\exp^{-z}}$$\n",
        "$$z = \\theta_0 x_0 + \\theta_1 x_1 + \\theta_2 x_2 + ... \\theta_N x_N$$\n",
        "We will refer to 'z' as the 'logits'."
      ],
      "metadata": {
        "id": "jY70Q_ybx86V"
      }
    },
    {
      "cell_type": "markdown",
      "source": [
        "<a name='ex-2'></a>\n",
        "### Exercise 2 - gradientDescent\n",
        "Implement gradient descent function.\n",
        "* The number of iterations 'num_iters\" is the number of times that you'll use the entire training set.\n",
        "* For each iteration, you'll calculate the cost function using all training examples (there are 'm' training examples), and for all features.\n",
        "* Instead of updating a single weight $\\theta_i$ at a time, we can update all the weights in the column vector:  \n",
        "$$\\mathbf{\\theta} = \\begin{pmatrix}\n",
        "\\theta_0\n",
        "\\\\\n",
        "\\theta_1\n",
        "\\\\\n",
        "\\theta_2\n",
        "\\\\\n",
        "\\vdots\n",
        "\\\\\n",
        "\\theta_n\n",
        "\\end{pmatrix}$$\n",
        "* $\\mathbf{\\theta}$ has dimensions (n+1, 1), where 'n' is the number of features, and there is one more element for the bias term $\\theta_0$ (note that the corresponding feature value $\\mathbf{x_0}$ is 1).\n",
        "* The 'logits', 'z', are calculated by multiplying the feature matrix 'x' with the weight vector 'theta'.  $z = \\mathbf{x}\\mathbf{\\theta}$\n",
        "    * $\\mathbf{x}$ has dimensions (m, n+1)\n",
        "    * $\\mathbf{\\theta}$: has dimensions (n+1, 1)\n",
        "    * $\\mathbf{z}$: has dimensions (m, 1)\n",
        "* The prediction 'h', is calculated by applying the sigmoid to each element in 'z': $h(z) = sigmoid(z)$, and has dimensions (m,1).\n",
        "* The cost function $J$ is calculated by taking the dot product of the vectors 'y' and 'log(h)'.  Since both 'y' and 'h' are column vectors (m,1), transpose the vector to the left, so that matrix multiplication of a row vector with column vector performs the dot product.\n",
        "$$J = \\frac{-1}{m} \\times \\left(\\mathbf{y}^T \\cdot log(\\mathbf{h}) + \\mathbf{(1-y)}^T \\cdot log(\\mathbf{1-h}) \\right)$$\n",
        "* The update of theta is also vectorized.  Because the dimensions of $\\mathbf{x}$ are (m, n+1), and both $\\mathbf{h}$ and $\\mathbf{y}$ are (m, 1), we need to transpose the $\\mathbf{x}$ and place it on the left in order to perform matrix multiplication, which then yields the (n+1, 1) answer we need:\n",
        "$$\\mathbf{\\theta} = \\mathbf{\\theta} - \\frac{\\alpha}{m} \\times \\left( \\mathbf{x}^T \\cdot \\left( \\mathbf{h-y} \\right) \\right)$$"
      ],
      "metadata": {
        "id": "YZagjtx2yEwY"
      }
    },
    {
      "cell_type": "code",
      "source": [
        "# GradientDescent\n",
        "def gradientDescent(x, y, theta, alpha, num_iters):\n",
        "    '''\n",
        "    Input:\n",
        "        x: matrix of features which is (m,n+1)\n",
        "        y: corresponding labels of the input matrix x, dimensions (m,1)\n",
        "        theta: weight vector of dimension (n+1,1)\n",
        "        alpha: learning rate\n",
        "        num_iters: number of iterations you want to train your model for\n",
        "    Output:\n",
        "        J: the final cost\n",
        "        theta: your final weight vector\n",
        "    Hint: you might want to print the cost to make sure that it is going down.\n",
        "    '''\n",
        "    ### START CODE HERE ###\n",
        "    # get 'm', the number of rows in matrix x\n",
        "    m = x.shape[0]\n",
        "\n",
        "    for i in range(0, num_iters):\n",
        "\n",
        "        # get z, the dot product of x and theta\n",
        "        z = np.dot(x, theta)\n",
        "\n",
        "        # get the sigmoid of z\n",
        "        h = 1 / (1 + np.exp(-z))\n",
        "\n",
        "        # calculate the cost function\n",
        "        J =  -(1/m) * (np.dot(y.T, np.log(h)) + np.dot((1 - y).T, np.log(1 - h)))\n",
        "\n",
        "        # update the weights theta\n",
        "        theta = theta - (alpha / m) * np.dot(x.T, (h - y))\n",
        "\n",
        "    ### END CODE HERE ###\n",
        "    J = float(J)\n",
        "    return J, theta\n",
        "\n"
      ],
      "metadata": {
        "id": "-lYvr9sivfGh"
      },
      "execution_count": 47,
      "outputs": []
    },
    {
      "cell_type": "code",
      "source": [
        "# Check the function\n",
        "# Construct a synthetic test case using numpy PRNG functions\n",
        "np.random.seed(1)\n",
        "# X input is 10 x 3 with ones for the bias terms\n",
        "tmp_X = np.append(np.ones((10, 1)), np.random.rand(10, 2) * 2000, axis=1)\n",
        "# Y Labels are 10 x 1\n",
        "tmp_Y = (np.random.rand(10, 1) > 0.35).astype(float)\n",
        "\n",
        "# Apply gradient descent\n",
        "tmp_J, tmp_theta = gradientDescent(tmp_X, tmp_Y, np.zeros((3, 1)),1e-8, 700)\n",
        "print(f\"The cost after training is {tmp_J:.8f}.\")\n",
        "print(f\"The resulting vector of weights is {[round(t, 8) for t in np.squeeze(tmp_theta)]}\")"
      ],
      "metadata": {
        "colab": {
          "base_uri": "https://localhost:8080/"
        },
        "id": "O0pAh-aivfKP",
        "outputId": "4fd173c1-3e7e-48aa-b8d1-f182b0dc9708"
      },
      "execution_count": 48,
      "outputs": [
        {
          "output_type": "stream",
          "name": "stdout",
          "text": [
            "The cost after training is 0.67094970.\n",
            "The resulting vector of weights is [4.1e-07, 0.00035658, 7.309e-05]\n"
          ]
        }
      ]
    },
    {
      "cell_type": "code",
      "source": [
        "# Test your function\n",
        "w1_unittest.test_gradientDescent(gradientDescent)"
      ],
      "metadata": {
        "id": "TPEolaGjyNMU"
      },
      "execution_count": null,
      "outputs": []
    },
    {
      "cell_type": "markdown",
      "source": [
        "<a name='2'></a>\n",
        "## 2 - Extracting the Features\n",
        "\n",
        "* Given a list of tweets, extract the features and store them in a matrix. You will extract two features.\n",
        "    * The first feature is the number of positive words in a tweet.\n",
        "    * The second feature is the number of negative words in a tweet.\n",
        "* Then train your logistic regression classifier on these features.\n",
        "* Test the classifier on a validation set.\n",
        "\n",
        "<a name='ex-3'></a>\n",
        "###  extract_features\n",
        "Implement the extract_features function.\n",
        "* This function takes in a single tweet.\n",
        "* Process the tweet using the imported `process_tweet` function and save the list of tweet words.\n",
        "* Loop through each word in the list of processed words\n",
        "    * For each word, check the 'freqs' dictionary for the count when that word has a positive '1' label. (Check for the key (word, 1.0)\n",
        "    * Do the same for the count for when the word is associated with the negative label '0'. (Check for the key (word, 0.0).)\n",
        "\n",
        "**Note:** In the implementation instructions provided above, the prediction of being positive or negative depends on feature vector which counts-in duplicate words -  "
      ],
      "metadata": {
        "id": "sx0UAq9OyT7H"
      }
    },
    {
      "cell_type": "code",
      "source": [
        "# extract_features\n",
        "def extract_features(tweet, freqs, process_tweet=process_tweet):\n",
        "    '''\n",
        "    Input:\n",
        "        tweet: a string containing one tweet\n",
        "        freqs: a dictionary corresponding to the frequencies of each tuple (word, label)\n",
        "    Output:\n",
        "        x: a feature vector of dimension (1,3)\n",
        "    '''\n",
        "    # process_tweet tokenizes, stems, and removes stopwords\n",
        "    word_l = process_tweet(tweet)\n",
        "\n",
        "    # 3 elements for [bias, positive, negative] counts\n",
        "    x = np.zeros(3)\n",
        "\n",
        "    # bias term is set to 1\n",
        "    x[0] = 1\n",
        "\n",
        "    ### START CODE HERE ###\n",
        "\n",
        "    # loop through each word in the list of words\n",
        "    for word in word_l:\n",
        "\n",
        "        # increment the word count for the positive label 1\n",
        "        x[1] += freqs.get((word, 1), 0)\n",
        "\n",
        "        # increment the word count for the negative label 0\n",
        "        x[2] += freqs.get((word, 0), 0)\n",
        "\n",
        "    ### END CODE HERE ###\n",
        "\n",
        "    x = x[None, :]  # adding batch dimension for further processing\n",
        "    assert(x.shape == (1, 3))\n",
        "    return x"
      ],
      "metadata": {
        "id": "ysVUcb5syNRs"
      },
      "execution_count": 49,
      "outputs": []
    },
    {
      "cell_type": "code",
      "source": [
        "# Check your function\n",
        "# test 1\n",
        "# test on training data\n",
        "tmp1 = extract_features(train_x[0], freqs)\n",
        "print(tmp1)"
      ],
      "metadata": {
        "colab": {
          "base_uri": "https://localhost:8080/"
        },
        "id": "jmishKtnyNak",
        "outputId": "7a1f8db0-124b-41d6-84aa-1994eee54353"
      },
      "execution_count": 50,
      "outputs": [
        {
          "output_type": "stream",
          "name": "stdout",
          "text": [
            "[[1.000e+00 3.133e+03 6.100e+01]]\n"
          ]
        }
      ]
    },
    {
      "cell_type": "code",
      "source": [
        "# test 2:\n",
        "# check for when the words are not in the freqs dictionary\n",
        "tmp2 = extract_features('blorb bleeeeb bloooob', freqs)\n",
        "print(tmp2)"
      ],
      "metadata": {
        "colab": {
          "base_uri": "https://localhost:8080/"
        },
        "id": "AeOBANYFyNjw",
        "outputId": "648e14b7-6e94-4bbf-811c-ca017100ba83"
      },
      "execution_count": 51,
      "outputs": [
        {
          "output_type": "stream",
          "name": "stdout",
          "text": [
            "[[1. 0. 0.]]\n"
          ]
        }
      ]
    },
    {
      "cell_type": "code",
      "source": [
        "# Test your function\n",
        "w1_unittest.test_extract_features(extract_features, freqs)\n"
      ],
      "metadata": {
        "colab": {
          "base_uri": "https://localhost:8080/"
        },
        "id": "6j_ie1iRyNsy",
        "outputId": "d4939a9b-992c-4b63-b6fd-17dc1c8561a5"
      },
      "execution_count": 52,
      "outputs": [
        {
          "output_type": "stream",
          "name": "stdout",
          "text": [
            "\u001b[92m All tests passed\n"
          ]
        }
      ]
    },
    {
      "cell_type": "markdown",
      "source": [
        "<a name='3'></a>\n",
        "## 3 - Training Your Model\n",
        "\n",
        "To train the model:\n",
        "* Stack the features for all training examples into a matrix X.\n",
        "* Call `gradientDescent`, which you've implemented above.\n",
        "\n",
        "This section is given to you.  Please read it for understanding and run the cell."
      ],
      "metadata": {
        "id": "IQo7A-CZynSr"
      }
    },
    {
      "cell_type": "code",
      "source": [
        "# collect the features 'x' and stack them into a matrix 'X'\n",
        "X = np.zeros((len(train_x), 3))\n",
        "for i in range(len(train_x)):\n",
        "    X[i, :]= extract_features(train_x[i], freqs)\n",
        "\n",
        "# training labels corresponding to X\n",
        "Y = train_y\n",
        "\n",
        "# Apply gradient descent\n",
        "J, theta = gradientDescent(X, Y, np.zeros((3, 1)), 1e-9, 1500)\n",
        "print(f\"The cost after training is {J:.8f}.\")\n",
        "print(f\"The resulting vector of weights is {[round(t, 8) for t in np.squeeze(theta)]}\")"
      ],
      "metadata": {
        "colab": {
          "base_uri": "https://localhost:8080/"
        },
        "id": "UtOqYiWeyN1c",
        "outputId": "5181cab0-4acd-4e0b-f308-ac9d42d285be"
      },
      "execution_count": 55,
      "outputs": [
        {
          "output_type": "stream",
          "name": "stdout",
          "text": [
            "The cost after training is 0.22521264.\n",
            "The resulting vector of weights is [6e-08, 0.0005382, -0.0005583]\n"
          ]
        }
      ]
    },
    {
      "cell_type": "code",
      "source": [
        "theta"
      ],
      "metadata": {
        "colab": {
          "base_uri": "https://localhost:8080/"
        },
        "id": "OrZAJsmYyrpP",
        "outputId": "cac1d41c-5f12-48ab-eb34-c2966ae4ebe2"
      },
      "execution_count": 56,
      "outputs": [
        {
          "output_type": "execute_result",
          "data": {
            "text/plain": [
              "array([[ 6.03424369e-08],\n",
              "       [ 5.38195957e-04],\n",
              "       [-5.58303150e-04]])"
            ]
          },
          "metadata": {},
          "execution_count": 56
        }
      ]
    },
    {
      "cell_type": "markdown",
      "source": [
        "<a name='4'></a>\n",
        "## 4 -  Test your Logistic Regression\n",
        "\n",
        "It is time for you to test your logistic regression function on some new input that your model has not seen before.\n",
        "<a name=' '></a>\n",
        "### predict_tweet\n",
        "Implement `predict_tweet`.\n",
        "Predict whether a tweet is positive or negative.\n",
        "\n",
        "* Given a tweet, process it, then extract the features.\n",
        "* Apply the model's learned weights on the features to get the logits.\n",
        "* Apply the sigmoid to the logits to get the prediction (a value between 0 and 1).\n",
        "\n",
        "$$y_{pred} = sigmoid(\\mathbf{x} \\cdot \\theta)$$"
      ],
      "metadata": {
        "id": "VNVXYXC2yvrB"
      }
    },
    {
      "cell_type": "code",
      "source": [
        "# (UNIQUE CELL IDENTIFIER, DO NOT EDIT)\n",
        "def predict_tweet(tweet, freqs, theta):\n",
        "    '''\n",
        "    Input:\n",
        "        tweet: a string\n",
        "        freqs: a dictionary corresponding to the frequencies of each tuple (word, label)\n",
        "        theta: (3,1) vector of weights\n",
        "    Output:\n",
        "        y_pred: the probability of a tweet being positive or negative\n",
        "    '''\n",
        "    ### START CODE HERE (REPLACE INSTANCES OF 'None' with your code) ###\n",
        "\n",
        "    # extract the features of the tweet and store it into x\n",
        "    x = extract_features(tweet,freqs)\n",
        "\n",
        "    # make the prediction using x and theta\n",
        "    y_pred = sigmoid(np.dot(x,theta))\n",
        "\n",
        "    ### END CODE HERE ###\n",
        "\n",
        "    return y_pred"
      ],
      "metadata": {
        "id": "RRzrVaUKyryh"
      },
      "execution_count": 53,
      "outputs": []
    },
    {
      "cell_type": "code",
      "source": [
        "# Run this cell to test your function\n",
        "for tweet in ['I am happy', 'I am bad', 'this movie should have been great.', 'great', 'great great', 'great great great', 'great great great great']:\n",
        "    print( '%s -> %f' % (tweet, predict_tweet(tweet, freqs, theta)))"
      ],
      "metadata": {
        "colab": {
          "base_uri": "https://localhost:8080/"
        },
        "id": "kUTOpDZFyr6w",
        "outputId": "9a989a39-b06f-4c8d-ec37-2543c6accb34"
      },
      "execution_count": 57,
      "outputs": [
        {
          "output_type": "stream",
          "name": "stdout",
          "text": [
            "I am happy -> 0.519275\n",
            "I am bad -> 0.494347\n",
            "this movie should have been great. -> 0.515980\n",
            "great -> 0.516065\n",
            "great great -> 0.532097\n",
            "great great great -> 0.548063\n",
            "great great great great -> 0.563930\n"
          ]
        }
      ]
    },
    {
      "cell_type": "code",
      "source": [
        "# Feel free to check the sentiment of your own tweet below\n",
        "my_tweet = 'I am learning :)'\n",
        "predict_tweet(my_tweet, freqs, theta)"
      ],
      "metadata": {
        "colab": {
          "base_uri": "https://localhost:8080/"
        },
        "id": "3qLjFiLzysEV",
        "outputId": "b3614898-944d-4eda-e2a7-5cb32612e31f"
      },
      "execution_count": 58,
      "outputs": [
        {
          "output_type": "execute_result",
          "data": {
            "text/plain": [
              "array([[0.83110764]])"
            ]
          },
          "metadata": {},
          "execution_count": 58
        }
      ]
    },
    {
      "cell_type": "code",
      "source": [
        "# Test your function\n",
        "w1_unittest.test_predict_tweet(predict_tweet, freqs, theta)"
      ],
      "metadata": {
        "colab": {
          "base_uri": "https://localhost:8080/"
        },
        "id": "hy0qdU8cysPq",
        "outputId": "d6145dc2-f0c9-4320-cc74-10a9c75b86ea"
      },
      "execution_count": 59,
      "outputs": [
        {
          "output_type": "stream",
          "name": "stdout",
          "text": [
            "\u001b[92m All tests passed\n"
          ]
        }
      ]
    },
    {
      "cell_type": "markdown",
      "source": [
        "<a name='4-1'></a>\n",
        "### 4.1 -  Check the Performance using the Test Set\n",
        "After training your model using the training set above, check how your model might perform on real, unseen data, by testing it against the test set.\n",
        "\n",
        "<a name='ex-5'></a>\n",
        "### test_logistic_regression\n",
        "Implement `test_logistic_regression`.\n",
        "* Given the test data and the weights of your trained model, calculate the accuracy of your logistic regression model.\n",
        "* Use your 'predict_tweet' function to make predictions on each tweet in the test set.\n",
        "* If the prediction is > 0.5, set the model's classification 'y_hat' to 1, otherwise set the model's classification 'y_hat' to 0.\n",
        "* A prediction is accurate when the y_hat equals the test_y.  Sum up all the instances when they are equal and divide by m."
      ],
      "metadata": {
        "id": "-5EWjXNFzFXg"
      }
    },
    {
      "cell_type": "code",
      "source": [
        "\n",
        "def test_logistic_regression(test_x, test_y, freqs, theta):\n",
        "    \"\"\"\n",
        "    Input:\n",
        "        test_x: a list of tweets\n",
        "        test_y: (m, 1) vector with the corresponding labels for the list of tweets\n",
        "        freqs: a dictionary with the frequency of each pair (or tuple)\n",
        "        theta: weight vector of dimension (3, 1)\n",
        "    Output:\n",
        "        accuracy: (# of tweets classified correctly) / (total # of tweets)\n",
        "    \"\"\"\n",
        "\n",
        "    ### START CODE HERE (REPLACE INSTANCES OF 'None' with your code) ###\n",
        "\n",
        "    # the list for storing predictions\n",
        "    y_hat = []\n",
        "\n",
        "    for tweet in test_x:\n",
        "        # get the label prediction for the tweet\n",
        "        y_pred = predict_tweet(tweet, freqs, theta)\n",
        "        if y_pred > 0.5:\n",
        "            # append 1.0 to the list\n",
        "            y_hat.append(1)\n",
        "        else:\n",
        "            # append 0 to the list\n",
        "            y_hat.append(0)\n",
        "\n",
        "    # With the above implementation, y_hat is a list, but test_y is (m,1) array\n",
        "    # convert both to one-dimensional arrays in order to compare them using the '==' operator\n",
        "\n",
        "    accuracy = (y_hat==np.squeeze(test_y)).sum()/len(test_x)\n",
        "    ### END CODE HERE ###\n",
        "\n",
        "    return accuracy"
      ],
      "metadata": {
        "id": "aWNN-YxuysZ-"
      },
      "execution_count": 60,
      "outputs": []
    },
    {
      "cell_type": "code",
      "source": [
        "tmp_accuracy = test_logistic_regression(test_x, test_y, freqs, theta)\n",
        "print(f\"Logistic regression model's accuracy = {tmp_accuracy:.4f}\")"
      ],
      "metadata": {
        "colab": {
          "base_uri": "https://localhost:8080/"
        },
        "id": "38ZeCwNIzNaM",
        "outputId": "ec11ce0c-baac-4171-ade0-a3004d4379c8"
      },
      "execution_count": 61,
      "outputs": [
        {
          "output_type": "stream",
          "name": "stdout",
          "text": [
            "Logistic regression model's accuracy = 0.9950\n"
          ]
        }
      ]
    },
    {
      "cell_type": "code",
      "source": [
        "# Test your function\n",
        "w1_unittest.unittest_test_logistic_regression(test_logistic_regression, freqs, theta)"
      ],
      "metadata": {
        "colab": {
          "base_uri": "https://localhost:8080/"
        },
        "id": "URZSRN7azNgz",
        "outputId": "c74be9ac-c3d8-4c7c-c406-048d6590ca02"
      },
      "execution_count": 62,
      "outputs": [
        {
          "output_type": "stream",
          "name": "stdout",
          "text": [
            "\u001b[92m All tests passed\n"
          ]
        }
      ]
    },
    {
      "cell_type": "markdown",
      "source": [
        "<a name='5'></a>\n",
        "## 5 -  Error Analysis\n",
        "\n",
        "In this part you will see some tweets that your model misclassified. Why do you think the misclassifications happened? Specifically what kind of tweets does your model misclassify?"
      ],
      "metadata": {
        "id": "8unpvGtezST5"
      }
    },
    {
      "cell_type": "code",
      "source": [
        "# Some error analysis done for you\n",
        "print('Label Predicted Tweet')\n",
        "for x,y in zip(test_x,test_y):\n",
        "    y_hat = predict_tweet(x, freqs, theta)\n",
        "\n",
        "    if np.abs(y - (y_hat > 0.5)) > 0:\n",
        "        print('THE TWEET IS:', x)\n",
        "        print('THE PROCESSED TWEET IS:', process_tweet(x))\n",
        "        print('%d\\t%0.8f\\t%s' % (y, y_hat, ' '.join(process_tweet(x)).encode('ascii', 'ignore')))"
      ],
      "metadata": {
        "colab": {
          "base_uri": "https://localhost:8080/"
        },
        "id": "OKKG7_iIzN-c",
        "outputId": "f749c91b-51cc-42d9-d614-6502b3479b23"
      },
      "execution_count": 63,
      "outputs": [
        {
          "output_type": "stream",
          "name": "stdout",
          "text": [
            "Label Predicted Tweet\n",
            "THE TWEET IS: @MarkBreech Not sure it would be good thing 4 my bottom daring 2 say 2 Miss B but Im gonna be so stubborn on mouth soaping ! #NotHavingit :p\n",
            "THE PROCESSED TWEET IS: ['sure', 'would', 'good', 'thing', '4', 'bottom', 'dare', '2', 'say', '2', 'miss', 'b', 'im', 'gonna', 'stubborn', 'mouth', 'soap', 'nothavingit', ':p']\n",
            "1\t0.48942981\tb'sure would good thing 4 bottom dare 2 say 2 miss b im gonna stubborn mouth soap nothavingit :p'\n",
            "THE TWEET IS: I'm playing Brain Dots : ) #BrainDots\n",
            "http://t.co/UGQzOx0huu\n",
            "THE PROCESSED TWEET IS: [\"i'm\", 'play', 'brain', 'dot', 'braindot']\n",
            "1\t0.48418981\tb\"i'm play brain dot braindot\"\n",
            "THE TWEET IS: I'm playing Brain Dots : ) #BrainDots http://t.co/aOKldo3GMj http://t.co/xWCM9qyRG5\n",
            "THE PROCESSED TWEET IS: [\"i'm\", 'play', 'brain', 'dot', 'braindot']\n",
            "1\t0.48418981\tb\"i'm play brain dot braindot\"\n",
            "THE TWEET IS: I'm playing Brain Dots : ) #BrainDots http://t.co/R2JBO8iNww http://t.co/ow5BBwdEMY\n",
            "THE PROCESSED TWEET IS: [\"i'm\", 'play', 'brain', 'dot', 'braindot']\n",
            "1\t0.48418981\tb\"i'm play brain dot braindot\"\n",
            "THE TWEET IS: off to the park to get some sunlight : )\n",
            "THE PROCESSED TWEET IS: ['park', 'get', 'sunlight']\n",
            "1\t0.49636406\tb'park get sunlight'\n",
            "THE TWEET IS: @msarosh Uff Itna Miss karhy thy ap :p\n",
            "THE PROCESSED TWEET IS: ['uff', 'itna', 'miss', 'karhi', 'thi', 'ap', ':p']\n",
            "1\t0.48250522\tb'uff itna miss karhi thi ap :p'\n",
            "THE TWEET IS: @phenomyoutube u probs had more fun with david than me : (\n",
            "THE PROCESSED TWEET IS: ['u', 'prob', 'fun', 'david']\n",
            "0\t0.50988296\tb'u prob fun david'\n",
            "THE TWEET IS: pats jay : (\n",
            "THE PROCESSED TWEET IS: ['pat', 'jay']\n",
            "0\t0.50040366\tb'pat jay'\n",
            "THE TWEET IS: my beloved grandmother : ( https://t.co/wt4oXq5xCf\n",
            "THE PROCESSED TWEET IS: ['belov', 'grandmoth']\n",
            "0\t0.50000002\tb'belov grandmoth'\n",
            "THE TWEET IS: Sr. Financial Analyst - Expedia, Inc.: (#Bellevue, WA) http://t.co/ktknMhvwCI #Finance #ExpediaJobs #Job #Jobs #Hiring\n",
            "THE PROCESSED TWEET IS: ['sr', 'financi', 'analyst', 'expedia', 'inc', 'bellevu', 'wa', 'financ', 'expediajob', 'job', 'job', 'hire']\n",
            "0\t0.50648699\tb'sr financi analyst expedia inc bellevu wa financ expediajob job job hire'\n"
          ]
        }
      ]
    },
    {
      "cell_type": "markdown",
      "source": [
        "<a name='6'></a>\n",
        "## 6 - Predict with your own Tweet"
      ],
      "metadata": {
        "id": "V7UqA3Sqzj5g"
      }
    },
    {
      "cell_type": "code",
      "source": [
        "# Feel free to change the tweet below\n",
        "my_tweet = 'This is a ridiculously bright movie. The plot was terrible and I was sad until the ending!'\n",
        "print(process_tweet(my_tweet))\n",
        "y_hat = predict_tweet(my_tweet, freqs, theta)\n",
        "print(y_hat)\n",
        "if y_hat > 0.5:\n",
        "    print('Positive sentiment')\n",
        "else:\n",
        "    print('Negative sentiment')"
      ],
      "metadata": {
        "colab": {
          "base_uri": "https://localhost:8080/"
        },
        "id": "ZNj3SOVjzNqh",
        "outputId": "de52c775-157f-42fd-ea96-157b6f486ce0"
      },
      "execution_count": 64,
      "outputs": [
        {
          "output_type": "stream",
          "name": "stdout",
          "text": [
            "['ridicul', 'bright', 'movi', 'plot', 'terribl', 'sad', 'end']\n",
            "[[0.48125421]]\n",
            "Negative sentiment\n"
          ]
        }
      ]
    },
    {
      "cell_type": "code",
      "source": [],
      "metadata": {
        "id": "fOJlnkMbzN0Z"
      },
      "execution_count": null,
      "outputs": []
    }
  ]
}